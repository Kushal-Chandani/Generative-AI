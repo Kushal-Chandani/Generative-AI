{
  "nbformat": 4,
  "nbformat_minor": 0,
  "metadata": {
    "colab": {
      "provenance": []
    },
    "kernelspec": {
      "name": "python3",
      "display_name": "Python 3"
    },
    "language_info": {
      "name": "python"
    }
  },
  "cells": [
    {
      "cell_type": "markdown",
      "source": [
        "# Name: Kushal Chandani\n",
        "# ID: 07535"
      ],
      "metadata": {
        "id": "9BdfuTX6nkIF"
      }
    },
    {
      "cell_type": "markdown",
      "source": [
        "#Necessary Libraries:"
      ],
      "metadata": {
        "id": "oEUTHaKgrhwc"
      }
    },
    {
      "cell_type": "code",
      "source": [
        "!pip install azure-ai-contentsafety"
      ],
      "metadata": {
        "id": "ZiqV9qPq1ZUb",
        "colab": {
          "base_uri": "https://localhost:8080/"
        },
        "outputId": "54da6a73-779d-4427-84ec-8aa94d2e46c9"
      },
      "execution_count": null,
      "outputs": [
        {
          "output_type": "stream",
          "name": "stdout",
          "text": [
            "Collecting azure-ai-contentsafety\n",
            "  Downloading azure_ai_contentsafety-1.0.0-py3-none-any.whl.metadata (30 kB)\n",
            "Collecting isodate<1.0.0,>=0.6.1 (from azure-ai-contentsafety)\n",
            "  Downloading isodate-0.7.2-py3-none-any.whl.metadata (11 kB)\n",
            "Collecting azure-core<2.0.0,>=1.28.0 (from azure-ai-contentsafety)\n",
            "  Downloading azure_core-1.32.0-py3-none-any.whl.metadata (39 kB)\n",
            "Requirement already satisfied: requests>=2.21.0 in /usr/local/lib/python3.11/dist-packages (from azure-core<2.0.0,>=1.28.0->azure-ai-contentsafety) (2.32.3)\n",
            "Requirement already satisfied: six>=1.11.0 in /usr/local/lib/python3.11/dist-packages (from azure-core<2.0.0,>=1.28.0->azure-ai-contentsafety) (1.17.0)\n",
            "Requirement already satisfied: typing-extensions>=4.6.0 in /usr/local/lib/python3.11/dist-packages (from azure-core<2.0.0,>=1.28.0->azure-ai-contentsafety) (4.12.2)\n",
            "Requirement already satisfied: charset-normalizer<4,>=2 in /usr/local/lib/python3.11/dist-packages (from requests>=2.21.0->azure-core<2.0.0,>=1.28.0->azure-ai-contentsafety) (3.4.1)\n",
            "Requirement already satisfied: idna<4,>=2.5 in /usr/local/lib/python3.11/dist-packages (from requests>=2.21.0->azure-core<2.0.0,>=1.28.0->azure-ai-contentsafety) (3.10)\n",
            "Requirement already satisfied: urllib3<3,>=1.21.1 in /usr/local/lib/python3.11/dist-packages (from requests>=2.21.0->azure-core<2.0.0,>=1.28.0->azure-ai-contentsafety) (2.3.0)\n",
            "Requirement already satisfied: certifi>=2017.4.17 in /usr/local/lib/python3.11/dist-packages (from requests>=2.21.0->azure-core<2.0.0,>=1.28.0->azure-ai-contentsafety) (2025.1.31)\n",
            "Downloading azure_ai_contentsafety-1.0.0-py3-none-any.whl (61 kB)\n",
            "\u001b[2K   \u001b[90m━━━━━━━━━━━━━━━━━━━━━━━━━━━━━━━━━━━━━━━━\u001b[0m \u001b[32m61.3/61.3 kB\u001b[0m \u001b[31m2.6 MB/s\u001b[0m eta \u001b[36m0:00:00\u001b[0m\n",
            "\u001b[?25hDownloading azure_core-1.32.0-py3-none-any.whl (198 kB)\n",
            "\u001b[2K   \u001b[90m━━━━━━━━━━━━━━━━━━━━━━━━━━━━━━━━━━━━━━━━\u001b[0m \u001b[32m198.9/198.9 kB\u001b[0m \u001b[31m10.7 MB/s\u001b[0m eta \u001b[36m0:00:00\u001b[0m\n",
            "\u001b[?25hDownloading isodate-0.7.2-py3-none-any.whl (22 kB)\n",
            "Installing collected packages: isodate, azure-core, azure-ai-contentsafety\n",
            "Successfully installed azure-ai-contentsafety-1.0.0 azure-core-1.32.0 isodate-0.7.2\n"
          ]
        }
      ]
    },
    {
      "cell_type": "code",
      "source": [
        "import os\n",
        "from azure.ai.contentsafety import ContentSafetyClient\n",
        "from azure.ai.contentsafety.models import AnalyzeImageOptions, ImageData, ImageCategory\n",
        "from azure.core.credentials import AzureKeyCredential\n",
        "from azure.core.exceptions import HttpResponseError"
      ],
      "metadata": {
        "id": "_3P3l42HgD5S"
      },
      "execution_count": null,
      "outputs": []
    },
    {
      "cell_type": "markdown",
      "source": [
        "#Example 1:"
      ],
      "metadata": {
        "id": "xfXhBHBvreaY"
      }
    },
    {
      "cell_type": "code",
      "source": [
        "from google.colab import userdata\n",
        "endpoint = userdata.get('endpoint')\n",
        "key = userdata.get('key')"
      ],
      "metadata": {
        "id": "zB5O3SoYhNLr"
      },
      "execution_count": null,
      "outputs": []
    },
    {
      "cell_type": "code",
      "source": [
        "def analyze_image():\n",
        "\n",
        "    image_path = \"Violence.jpg\"\n",
        "    # Create an Azure AI Content Safety client\n",
        "    client = ContentSafetyClient(endpoint, AzureKeyCredential(key))\n",
        "\n",
        "\n",
        "    # Build request\n",
        "    with open(image_path, \"rb\") as file:\n",
        "        request = AnalyzeImageOptions(image=ImageData(content=file.read()))\n",
        "\n",
        "    # Analyze image\n",
        "    try:\n",
        "        response = client.analyze_image(request)\n",
        "    except HttpResponseError as e:\n",
        "        print(\"Analyze image failed.\")\n",
        "        if e.error:\n",
        "            print(f\"Error code: {e.error.code}\")\n",
        "            print(f\"Error message: {e.error.message}\")\n",
        "            raise\n",
        "        print(e)\n",
        "        raise\n",
        "\n",
        "    hate_result = next(item for item in response.categories_analysis if item.category == ImageCategory.HATE)\n",
        "    self_harm_result = next(item for item in response.categories_analysis if item.category == ImageCategory.SELF_HARM)\n",
        "    sexual_result = next(item for item in response.categories_analysis if item.category == ImageCategory.SEXUAL)\n",
        "    violence_result = next(item for item in response.categories_analysis if item.category == ImageCategory.VIOLENCE)\n",
        "\n",
        "    if hate_result:\n",
        "        print(f\"Hate severity: {hate_result.severity}\")\n",
        "    if self_harm_result:\n",
        "        print(f\"SelfHarm severity: {self_harm_result.severity}\")\n",
        "    if sexual_result:\n",
        "        print(f\"Sexual severity: {sexual_result.severity}\")\n",
        "    if violence_result:\n",
        "        print(f\"Violence severity: {violence_result.severity}\")\n",
        "\n",
        "if __name__ == \"__main__\":\n",
        "    analyze_image()"
      ],
      "metadata": {
        "colab": {
          "base_uri": "https://localhost:8080/"
        },
        "id": "d8LGEPhv1yEM",
        "outputId": "2c10d889-5995-4dbe-a338-874d1ab85041"
      },
      "execution_count": null,
      "outputs": [
        {
          "output_type": "stream",
          "name": "stdout",
          "text": [
            "Hate severity: 0\n",
            "SelfHarm severity: 0\n",
            "Sexual severity: 0\n",
            "Violence severity: 2\n"
          ]
        }
      ]
    },
    {
      "cell_type": "markdown",
      "source": [
        "#Example 2:"
      ],
      "metadata": {
        "id": "2ughVXQfHb_9"
      }
    },
    {
      "cell_type": "code",
      "source": [
        "def analyze_image():\n",
        "    image_path = \"fight.PNG\"\n",
        "\n",
        "    # Create an Azure AI Content Safety client\n",
        "    client = ContentSafetyClient(endpoint, AzureKeyCredential(key))\n",
        "\n",
        "\n",
        "    # Build request\n",
        "    with open(image_path, \"rb\") as file:\n",
        "        request = AnalyzeImageOptions(image=ImageData(content=file.read()))\n",
        "\n",
        "    # Analyze image\n",
        "    try:\n",
        "        response = client.analyze_image(request)\n",
        "    except HttpResponseError as e:\n",
        "        print(\"Analyze image failed.\")\n",
        "        if e.error:\n",
        "            print(f\"Error code: {e.error.code}\")\n",
        "            print(f\"Error message: {e.error.message}\")\n",
        "            raise\n",
        "        print(e)\n",
        "        raise\n",
        "\n",
        "    hate_result = next(item for item in response.categories_analysis if item.category == ImageCategory.HATE)\n",
        "    self_harm_result = next(item for item in response.categories_analysis if item.category == ImageCategory.SELF_HARM)\n",
        "    sexual_result = next(item for item in response.categories_analysis if item.category == ImageCategory.SEXUAL)\n",
        "    violence_result = next(item for item in response.categories_analysis if item.category == ImageCategory.VIOLENCE)\n",
        "\n",
        "    if hate_result:\n",
        "        print(f\"Hate severity: {hate_result.severity}\")\n",
        "    if self_harm_result:\n",
        "        print(f\"SelfHarm severity: {self_harm_result.severity}\")\n",
        "    if sexual_result:\n",
        "        print(f\"Sexual severity: {sexual_result.severity}\")\n",
        "    if violence_result:\n",
        "        print(f\"Violence severity: {violence_result.severity}\")\n",
        "\n",
        "if __name__ == \"__main__\":\n",
        "    analyze_image()"
      ],
      "metadata": {
        "colab": {
          "base_uri": "https://localhost:8080/"
        },
        "id": "ILCvE5Pt1x-d",
        "outputId": "d51d8b47-0dae-40e4-aa8f-fb7e2aa67a11"
      },
      "execution_count": null,
      "outputs": [
        {
          "output_type": "stream",
          "name": "stdout",
          "text": [
            "Hate severity: 0\n",
            "SelfHarm severity: 0\n",
            "Sexual severity: 0\n",
            "Violence severity: 2\n"
          ]
        }
      ]
    },
    {
      "cell_type": "code",
      "source": [],
      "metadata": {
        "id": "E-8TLMRPE0AL"
      },
      "execution_count": null,
      "outputs": []
    }
  ]
}