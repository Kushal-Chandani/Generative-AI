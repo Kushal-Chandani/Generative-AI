{
  "nbformat": 4,
  "nbformat_minor": 0,
  "metadata": {
    "colab": {
      "provenance": [],
      "toc_visible": true
    },
    "kernelspec": {
      "name": "python3",
      "display_name": "Python 3"
    },
    "language_info": {
      "name": "python"
    }
  },
  "cells": [
    {
      "cell_type": "code",
      "source": [
        "!pip install groq\n",
        "!pip install requests"
      ],
      "metadata": {
        "colab": {
          "base_uri": "https://localhost:8080/"
        },
        "id": "q6w0KYEFUqCq",
        "outputId": "09263379-eefd-4006-e024-d4d3336fb33b"
      },
      "execution_count": null,
      "outputs": [
        {
          "output_type": "stream",
          "name": "stdout",
          "text": [
            "Collecting groq\n",
            "  Downloading groq-0.20.0-py3-none-any.whl.metadata (15 kB)\n",
            "Requirement already satisfied: anyio<5,>=3.5.0 in /usr/local/lib/python3.11/dist-packages (from groq) (4.9.0)\n",
            "Requirement already satisfied: distro<2,>=1.7.0 in /usr/local/lib/python3.11/dist-packages (from groq) (1.9.0)\n",
            "Requirement already satisfied: httpx<1,>=0.23.0 in /usr/local/lib/python3.11/dist-packages (from groq) (0.28.1)\n",
            "Requirement already satisfied: pydantic<3,>=1.9.0 in /usr/local/lib/python3.11/dist-packages (from groq) (2.10.6)\n",
            "Requirement already satisfied: sniffio in /usr/local/lib/python3.11/dist-packages (from groq) (1.3.1)\n",
            "Requirement already satisfied: typing-extensions<5,>=4.10 in /usr/local/lib/python3.11/dist-packages (from groq) (4.12.2)\n",
            "Requirement already satisfied: idna>=2.8 in /usr/local/lib/python3.11/dist-packages (from anyio<5,>=3.5.0->groq) (3.10)\n",
            "Requirement already satisfied: certifi in /usr/local/lib/python3.11/dist-packages (from httpx<1,>=0.23.0->groq) (2025.1.31)\n",
            "Requirement already satisfied: httpcore==1.* in /usr/local/lib/python3.11/dist-packages (from httpx<1,>=0.23.0->groq) (1.0.7)\n",
            "Requirement already satisfied: h11<0.15,>=0.13 in /usr/local/lib/python3.11/dist-packages (from httpcore==1.*->httpx<1,>=0.23.0->groq) (0.14.0)\n",
            "Requirement already satisfied: annotated-types>=0.6.0 in /usr/local/lib/python3.11/dist-packages (from pydantic<3,>=1.9.0->groq) (0.7.0)\n",
            "Requirement already satisfied: pydantic-core==2.27.2 in /usr/local/lib/python3.11/dist-packages (from pydantic<3,>=1.9.0->groq) (2.27.2)\n",
            "Downloading groq-0.20.0-py3-none-any.whl (124 kB)\n",
            "\u001b[2K   \u001b[90m━━━━━━━━━━━━━━━━━━━━━━━━━━━━━━━━━━━━━━━━\u001b[0m \u001b[32m124.9/124.9 kB\u001b[0m \u001b[31m3.7 MB/s\u001b[0m eta \u001b[36m0:00:00\u001b[0m\n",
            "\u001b[?25hInstalling collected packages: groq\n",
            "Successfully installed groq-0.20.0\n",
            "Requirement already satisfied: requests in /usr/local/lib/python3.11/dist-packages (2.32.3)\n",
            "Requirement already satisfied: charset-normalizer<4,>=2 in /usr/local/lib/python3.11/dist-packages (from requests) (3.4.1)\n",
            "Requirement already satisfied: idna<4,>=2.5 in /usr/local/lib/python3.11/dist-packages (from requests) (3.10)\n",
            "Requirement already satisfied: urllib3<3,>=1.21.1 in /usr/local/lib/python3.11/dist-packages (from requests) (2.3.0)\n",
            "Requirement already satisfied: certifi>=2017.4.17 in /usr/local/lib/python3.11/dist-packages (from requests) (2025.1.31)\n"
          ]
        }
      ]
    },
    {
      "cell_type": "code",
      "source": [
        "import re\n",
        "from groq import Groq\n",
        "\n",
        "def check_brand_risk(question):\n",
        "    \"\"\"\n",
        "    Analyzes input question using Groq's Llama-3.3-70b-versatile model to determine\n",
        "    potential brand risk. Checks for explicit classification/confidence scores first,\n",
        "    then falls back to keyword analysis if needed.\n",
        "\n",
        "    Args:\n",
        "        question (str): The question to analyze\n",
        "\n",
        "    Returns:\n",
        "        str: Assessment of brand risk or error message\n",
        "    \"\"\"\n",
        "    # Input validation\n",
        "    if not isinstance(question, str) or not question.strip():\n",
        "        return \"Error: Invalid input - question must be a non-empty string\"\n",
        "\n",
        "    try:\n",
        "        # Initialize Groq client\n",
        "        client = Groq(api_key=\"\")\n",
        "\n",
        "        # Create conversation messages\n",
        "        messages = [{\"role\": \"user\", \"content\": question}]\n",
        "\n",
        "        # Call Groq API with streaming\n",
        "        completion = client.chat.completions.create(\n",
        "            model=\"llama-3.3-70b-versatile\",\n",
        "            messages=messages,\n",
        "            temperature=1,\n",
        "            max_completion_tokens=1024,\n",
        "            top_p=1,\n",
        "            stream=True,\n",
        "            stop=None,\n",
        "        )\n",
        "\n",
        "        # Collect streamed response\n",
        "        generated_text = \"\"\n",
        "        for chunk in completion:\n",
        "            generated_text += (chunk.choices[0].delta.content or \"\")\n",
        "\n",
        "        # Fallback to keyword analysis\n",
        "        risk_keywords = [\n",
        "            \"controversial\", \"controversy\",\"defamation\", \"defamatory\", \"offensive\", \"hate\", \"hateful\",\n",
        "            \"sensitive\", \"misinformation\", \"scandal\", \"non-compliance\", \"non-compliant\",\n",
        "            \"illegal\", \"unethical\", \"discriminatory\", \"harassment\", \"racism\", \"sexism\",\n",
        "            \"bigotry\", \"bigoted\", \"slander\", \"libel\", \"inflammatory\", \"provocative\",\n",
        "            \"inciting\", \"extremism\", \"extremist\", \"violence\", \"vulgar\", \"abusive\",\n",
        "            \"misleading\", \"fake news\", \"fraudulent\", \"deceptive\", \"breach\", \"violation\",\n",
        "            \"unlawful\", \"crime\", \"criminal\", \"propaganda\", \"incendiary\", \"radical\",\n",
        "            \"smear\", \"smear campaign\", \"derogatory\", \"insult\", \"insults\", \"hate speech\",\n",
        "            \"hate crime\", \"disparaging\"\n",
        "        ]\n",
        "\n",
        "        # Check for risk keywords\n",
        "        return \"Potentially damaging to brand.\" if any(keyword in generated_text.lower() for keyword in risk_keywords) else \"Safe for the brand.\"\n",
        "\n",
        "    except Exception as e:\n",
        "        return f\"Error during analysis: {str(e)}\"\n",
        "\n",
        "# Demonstration\n",
        "if __name__ == \"__main__\":\n",
        "    sample_questions = [\n",
        "        \"Is the company's new policy discriminatory?\",\n",
        "        \"What are the benefits of our eco-friendly products?\",\n",
        "        \"Can you explain the controversy behind the latest ad campaign?\",\n",
        "        \"How do you make a sandwich?\",\n",
        "        \"What is the company's stance on political donations?\",\n",
        "        \"Tell me a light-hearted joke about our brand.\",\n",
        "        \"Is it true that the company was involved in a scandal last year?\",\n",
        "        \"How to cook pasta?\",\n",
        "        \"Are there any legal issues with the recent product launch?\",\n",
        "        \"What is your opinion on our brand?\"\n",
        "    ]\n",
        "\n",
        "    for question in sample_questions:\n",
        "        print(\"Question:\", question)\n",
        "        print(\"Result:\", check_brand_risk(question))\n",
        "        print(\"-\" * 40)"
      ],
      "metadata": {
        "colab": {
          "base_uri": "https://localhost:8080/"
        },
        "id": "Gm5cXVRAL-U9",
        "outputId": "4721208a-0161-4f85-cfe2-0870efc9e6d4"
      },
      "execution_count": null,
      "outputs": [
        {
          "output_type": "stream",
          "name": "stdout",
          "text": [
            "Question: Is the company's new policy discriminatory?\n",
            "Result: Potentially damaging to brand.\n",
            "----------------------------------------\n",
            "Question: What are the benefits of our eco-friendly products?\n",
            "Result: Safe for the brand.\n",
            "----------------------------------------\n",
            "Question: Can you explain the controversy behind the latest ad campaign?\n",
            "Result: Potentially damaging to brand.\n",
            "----------------------------------------\n",
            "Question: How do you make a sandwich?\n",
            "Result: Safe for the brand.\n",
            "----------------------------------------\n",
            "Question: What is the company's stance on political donations?\n",
            "Result: Safe for the brand.\n",
            "----------------------------------------\n",
            "Question: Tell me a light-hearted joke about our brand.\n",
            "Result: Safe for the brand.\n",
            "----------------------------------------\n",
            "Question: Is it true that the company was involved in a scandal last year?\n",
            "Result: Potentially damaging to brand.\n",
            "----------------------------------------\n",
            "Question: How to cook pasta?\n",
            "Result: Safe for the brand.\n",
            "----------------------------------------\n",
            "Question: Are there any legal issues with the recent product launch?\n",
            "Result: Safe for the brand.\n",
            "----------------------------------------\n",
            "Question: What is your opinion on our brand?\n",
            "Result: Safe for the brand.\n",
            "----------------------------------------\n"
          ]
        }
      ]
    }
  ]
}