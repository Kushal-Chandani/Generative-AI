{
  "nbformat": 4,
  "nbformat_minor": 5,
  "metadata": {
    "name": "QLoRA_Quantization_Explainer",
    "language_info": {
      "name": "python"
    },
    "colab": {
      "provenance": []
    },
    "kernelspec": {
      "name": "python3",
      "display_name": "Python 3"
    }
  },
  "cells": [
    {
      "cell_type": "code",
      "metadata": {
        "id": "aICU-jlNllcT"
      },
      "source": [
        "#################################################################\n",
        "#                                                               #\n",
        "#  CS435 Generative AI: Security, Ethics and Governance         #\n",
        "#                                                               #\n",
        "#  Instructor: Dr. Adnan Masood                                 #\n",
        "#  Contact:    adnanmasood@gmail.com                            #\n",
        "#                                                               #\n",
        "#  Notebook is MIT Licensed                                     #\n",
        "#################################################################\n"
      ],
      "execution_count": null,
      "outputs": [],
      "id": "aICU-jlNllcT"
    },
    {
      "cell_type": "markdown",
      "metadata": {
        "id": "NS3LUGIZllcV"
      },
      "source": [
        "# Quantization, LoRA, and QLoRA Explained in a Jupyter Notebook\n",
        "\n",
        "Welcome! In this notebook, we’ll explore **Quantization**, **LoRA**, and **QLoRA** in detail. We will begin with an intuitive, simple explanation, and progressively dive deeper into the technical and mathematical aspects. This notebook is structured to provide a multi-level explanation: from a very simple level to a very advanced level. We'll go step-by-step with examples and code. By the end of this notebook, you’ll have a thorough understanding of how these techniques work, why they matter, and how to apply them.\n"
      ],
      "id": "NS3LUGIZllcV"
    },
    {
      "cell_type": "markdown",
      "metadata": {
        "id": "Th-zO-OyllcW"
      },
      "source": [
        "# Table of Contents\n",
        "1. [Building an Intuitive Understanding](#five-levels)\n",
        "2. [Intuition Behind Quantization, LoRA, and QLoRA](#intuition)\n",
        "3. [Brief History and Underlying Technology](#history)\n",
        "4. [Math Behind the Techniques](#math)\n",
        "5. [Illustrative Example with Code](#example_code)\n",
        "6. [Example Calculations](#mock_calcs)\n",
        "7. [Step-by-Step Example from Scratch](#step_by_step)\n",
        "8. [Illustrative Problem It Solves](#illustrative_problem)\n",
        "9. [Real-World Problems Solved](#realworld_problem)\n",
        "10. [Using This Tech to Solve Real Problems](#use_tech)\n",
        "11. [Questions to Ponder](#questions)\n",
        "12. [Answers to the Questions (with Code)](#answers)\n",
        "13. [A Sample Exercise](#easy_sample)\n",
        "14. [Glossary](#glossary)\n"
      ],
      "id": "Th-zO-OyllcW"
    },
    {
      "cell_type": "markdown",
      "metadata": {
        "tags": [],
        "id": "sOeWuvq1llcW"
      },
      "source": [
        "<a id=\"five-levels\"></a>\n",
        "# 1. Building an Intuitive Understanding\n",
        "Below is a progression of explanations for **Quantization, LoRA, and QLoRA**, each adding more detail but focusing on the same core ideas:\n",
        "\n",
        "**Quantization**: Imagine you have a big box of colored pencils with many shades. Quantization means you're picking fewer shades to color your picture—this makes your box smaller and easier to carry, but you can still draw almost the same picture.\n",
        "\n",
        "**LoRA**: Think of it like having a big puzzle, but you only add a small set of new pieces to update your puzzle’s picture. This is much easier than remaking the whole puzzle from scratch.\n",
        "\n",
        "**QLoRA**: Combine the idea of picking fewer shades (Quantization) **and** adding small puzzle pieces (LoRA) together to make learning and using a big AI model faster and cheaper.\n",
        "\n",
        "When dealing with neural networks, we store numbers (weights) in computers. Normally, we use full 32-bit numbers (floats). Quantization shrinks them to fewer bits (like 8-bit or 4-bit) to use less memory and compute faster.\n",
        "\n",
        "LoRA (Low-Rank Adaptation) is a method to update a large model with fewer parameters. Instead of changing all the model’s weights, we factorize them into smaller matrices (low-rank) and only update those parts, saving memory and training time.\n",
        "\n",
        "QLoRA is a technique that uses 4-bit quantization for a large model while applying LoRA for fine-tuning. It drastically cuts down memory usage and speeds up training and inference.\n",
        "\n",
        "Neural networks rely on large weight matrices. Using high-precision floating-point data can be overkill. Quantization maps these continuous values to discrete sets of integers in fewer bits, e.g., using 8-bit or 4-bit integers instead of 32-bit floats. This requires some scaling and offset for each weight.\n",
        "\n",
        "LoRA decouples the main model weights from the update process. Instead of fine-tuning every single weight, we introduce low-dimensional matrices (A and B). We only learn these matrices during training, which drastically reduces the number of trainable parameters.\n",
        "\n",
        "QLoRA combines 4-bit quantization (to store and run the large base model more efficiently) with LoRA to fine-tune it on new data. It offers the benefit of minimal hardware requirements alongside parameter-efficient fine-tuning.\n",
        "\n",
        "We can view quantization as approximating the weight vector space with a smaller set of possible values. For instance, 4-bit quantization defines 2^4 = 16 possible levels. Each weight is mapped to a scaled integer representation, e.g., $w_{quant} = \\text{round}((w - \\alpha)/\\delta)$ where $\\alpha$ is an offset and $\\delta$ is the step size.\n",
        "\n",
        "If a weight matrix $W$ is dimension $d \\times d$, LoRA factorizes the update into $A$ and $B$, each with dimensions $d \\times r$ and $r \\times d$, leading to a low-rank update: $\\Delta W = A B^T$. We only train $A$ and $B$, keeping the base $W$ fixed, thereby drastically reducing the parameter count.\n",
        "\n",
        "With QLoRA, the base weights are quantized to 4 bits (using specific algorithms designed for large language models). The LoRA low-rank matrices remain in higher precision. This effectively combines memory savings of quantization with the parameter efficiency of LoRA.\n",
        "\n",
        "In large-scale LLMs, advanced quantization strategies might be used, such as per-channel scaling or block-wise quantization. There's ongoing research on the representational capacity of low-rank updates, how the rank $r$ determines the model’s flexibility, and how quantization error interacts with low-rank decomposition. QLoRA enables fine-tuning multi-billion-parameter models on GPUs with limited memory.\n"
      ],
      "id": "sOeWuvq1llcW"
    },
    {
      "cell_type": "markdown",
      "metadata": {
        "id": "a82tfbE2llcW"
      },
      "source": [
        "<a id=\"intuition\"></a>\n",
        "# 2. Intuition Behind Quantization, LoRA, and QLoRA\n",
        "**Intuition**:\n",
        "- **Quantization**: We reduce the precision of numbers. Think of it like rounding prices to the nearest dollar instead of using pennies. You lose some fine detail, but you speed up calculations and reduce storage.\n",
        "- **LoRA**: Instead of rewriting the entire book (model weights), you add notes in the margins that reference which parts of the book need updating. This is more efficient.\n",
        "- **QLoRA**: It’s like having a short summary (4-bit quantization) of the big book plus those margin notes (LoRA) combined. You can store everything in a smaller space and still adapt it for new tasks.\n"
      ],
      "id": "a82tfbE2llcW"
    },
    {
      "cell_type": "markdown",
      "metadata": {
        "id": "Id-uae1sllcX"
      },
      "source": [
        "<a id=\"history\"></a>\n",
        "# 3. Brief History and Underlying Tech\n",
        "- **Quantization**: Has been around in digital signal processing for decades. Became popular in neural networks to speed up inference on edge devices and reduce memory.\n",
        "- **LoRA**: Introduced as a parameter-efficient fine-tuning technique; it's a response to the exploding size of large language models (LLMs). The original paper demonstrated significant savings in GPU memory and training speed.\n",
        "- **QLoRA**: Proposed to leverage both 4-bit quantization for base LLM weights and LoRA for fine-tuning. Helps reduce the massive cost of hardware (GPU) and memory usage, enabling LLM tuning on more modest systems.\n"
      ],
      "id": "Id-uae1sllcX"
    },
    {
      "cell_type": "markdown",
      "metadata": {
        "id": "7y3dWLbzllcX"
      },
      "source": [
        "<a id=\"math\"></a>\n",
        "# 4. Math Behind the Techniques\n",
        "### 4.1 Quantization\n",
        "- **Simple equation**: If $w$ is a real-valued weight,\n",
        "$$\n",
        "w_{q} = \\text{round}\\left(\\frac{w - \\alpha}{\\delta}\\right),\n",
        "$$\n",
        "where $w_{q}$ is the quantized integer, $\\alpha$ is a zero point (offset), and $\\delta$ is the scale. The real value is approximated by:\n",
        "$$\n",
        "w_{approx} = w_q \\times \\delta + \\alpha.\n",
        "$$\n",
        "\n",
        "### 4.2 LoRA\n",
        "- A weight matrix $W$ is large. We keep it **frozen** and add a small update $\\Delta W$ that can be written as $A B^T$:\n",
        "$$\n",
        "W_{\\text{new}} = W + A B^T,\n",
        "$$\n",
        "where $A$ and $B$ are much smaller, rank-$r$ matrices, typically with dimension $d \\times r$ and $r \\times d$, respectively.\n",
        "\n",
        "### 4.3 QLoRA\n",
        "- **4-bit Quantization of the base weights**: In practice, a technique like [GPTQ](https://arxiv.org/abs/2210.17323) or [bitsandbytes](https://github.com/TimDettmers/bitsandbytes) is used.\n",
        "- **LoRA applied on top**: The original weights are stored in 4-bit precision, while the LoRA matrices remain in higher precision. We can train just the LoRA part, combining memory efficiency with effective fine-tuning.\n"
      ],
      "id": "7y3dWLbzllcX"
    },
    {
      "cell_type": "markdown",
      "metadata": {
        "id": "64f8J98ellcX"
      },
      "source": [
        "<a id=\"example_code\"></a>\n",
        "# 5. Illustrative Example with Code\n",
        "In this section, we’ll do a very simplified demonstration of how quantization might work on a small tensor, then how LoRA can be conceptually applied in PyTorch.\n"
      ],
      "id": "64f8J98ellcX"
    },
    {
      "cell_type": "code",
      "metadata": {
        "execution": {},
        "tags": [],
        "colab": {
          "base_uri": "https://localhost:8080/"
        },
        "id": "swFPkzMAllcX",
        "outputId": "56885b68-ad5a-41f3-de14-fe7d33fc5943"
      },
      "source": [
        "# Let's do a toy example of quantization in Python\n",
        "import torch\n",
        "import numpy as np\n",
        "\n",
        "def simple_quantize(tensor, num_bits=4):\n",
        "    # For demonstration, we do a naive min-max scaling\n",
        "    # Determine min and max\n",
        "    t_min = tensor.min()\n",
        "    t_max = tensor.max()\n",
        "\n",
        "    # Number of levels\n",
        "    levels = 2 ** num_bits\n",
        "\n",
        "    # Scale and zero-point\n",
        "    scale = (t_max - t_min) / (levels - 1)\n",
        "    zero_point = t_min\n",
        "\n",
        "    # Quantize\n",
        "    quantized = torch.round((tensor - zero_point) / scale)\n",
        "\n",
        "    return quantized, scale, zero_point\n",
        "\n",
        "def simple_dequantize(quantized, scale, zero_point):\n",
        "    return quantized * scale + zero_point\n",
        "\n",
        "# Example tensor\n",
        "data = torch.tensor([0.1, 0.2, 0.25, 0.75, 1.0, 1.1], dtype=torch.float32)\n",
        "print(\"Original Data:\", data)\n",
        "\n",
        "q_data, scale, zp = simple_quantize(data, num_bits=4)\n",
        "dq_data = simple_dequantize(q_data, scale, zp)\n",
        "\n",
        "print(\"\\nQuantized Data (4-bit):\", q_data)\n",
        "print(\"Scale:\", scale, \"Zero Point:\", zp)\n",
        "print(\"Dequantized Data:\", dq_data)"
      ],
      "execution_count": null,
      "outputs": [
        {
          "output_type": "stream",
          "name": "stdout",
          "text": [
            "Original Data: tensor([0.1000, 0.2000, 0.2500, 0.7500, 1.0000, 1.1000])\n",
            "\n",
            "Quantized Data (4-bit): tensor([ 0.,  2.,  2., 10., 13., 15.])\n",
            "Scale: tensor(0.0667) Zero Point: tensor(0.1000)\n",
            "Dequantized Data: tensor([0.1000, 0.2333, 0.2333, 0.7667, 0.9667, 1.1000])\n"
          ]
        }
      ],
      "id": "swFPkzMAllcX"
    },
    {
      "cell_type": "markdown",
      "metadata": {
        "id": "I84kcoO9llcX"
      },
      "source": [
        "In the code above, we:\n",
        "1. **Compute** the range of the data ($t_\\text{min}$ and $t_\\text{max}$).\n",
        "2. **Derive** the scale and zero-point for a given bit precision (e.g., 4 bits gives 16 levels).\n",
        "3. **Round** the data to these discrete levels.\n",
        "4. **Dequantize** by reversing the process.\n",
        "\n",
        "This is a simplistic demonstration of what quantization does.\n"
      ],
      "id": "I84kcoO9llcX"
    },
    {
      "cell_type": "markdown",
      "metadata": {
        "id": "WcYEbnttllcY"
      },
      "source": [
        "### LoRA Conceptual Example\n",
        "Let’s do a toy example of applying a low-rank update to a matrix in PyTorch. Note: This is a contrived example just to illustrate the idea of $W + AB^T$."
      ],
      "id": "WcYEbnttllcY"
    },
    {
      "cell_type": "code",
      "metadata": {
        "execution": {},
        "colab": {
          "base_uri": "https://localhost:8080/"
        },
        "id": "J-eB1VgfllcY",
        "outputId": "1f73e260-79e0-481b-8b5f-7ee16245396a"
      },
      "source": [
        "import torch\n",
        "\n",
        "d = 6  # dimension\n",
        "r = 2  # rank\n",
        "\n",
        "# Original weight matrix W\n",
        "W = torch.randn(d, d)\n",
        "\n",
        "# LoRA matrices\n",
        "A = torch.randn(d, r)\n",
        "B = torch.randn(r, d)\n",
        "\n",
        "# Low-rank update Delta W = A.mm(B)\n",
        "Delta_W = A.mm(B)\n",
        "\n",
        "# New weight\n",
        "W_new = W + Delta_W\n",
        "\n",
        "print(\"Original W:\\n\", W)\n",
        "print(\"\\nLoRA update Delta_W = A*B:\\n\", Delta_W)\n",
        "print(\"\\nW_new = W + Delta_W:\\n\", W_new)\n"
      ],
      "execution_count": null,
      "outputs": [
        {
          "output_type": "stream",
          "name": "stdout",
          "text": [
            "Original W:\n",
            " tensor([[ 1.1697, -0.5668, -0.5548, -0.0254,  1.2123, -0.7499],\n",
            "        [-0.2529, -1.4790, -1.9017, -0.0548,  0.2024, -0.1532],\n",
            "        [-0.2562, -2.6487, -1.3980,  0.9825, -0.3399, -0.3712],\n",
            "        [-0.1242, -1.4526,  1.0699, -0.8227, -0.7459, -1.5155],\n",
            "        [ 0.9345,  0.0629,  0.8952, -1.8664,  0.3253, -0.3888],\n",
            "        [ 0.5772,  0.4870, -0.0182, -1.8467,  0.2777, -1.0933]])\n",
            "\n",
            "LoRA update Delta_W = A*B:\n",
            " tensor([[ 0.4216, -2.2879,  0.2140,  1.3414, -3.0245,  0.0369],\n",
            "        [-1.2779, -3.8631,  0.9686,  1.3902, -3.5345, -0.6987],\n",
            "        [-1.8092, -3.7664,  1.1162,  1.1078, -3.0010, -0.8966],\n",
            "        [ 1.3620,  0.3973, -0.4752,  0.3980, -0.6089,  0.5425],\n",
            "        [ 1.8465,  2.4369, -0.9285, -0.4196,  1.4075,  0.8386],\n",
            "        [ 1.7876,  2.6547, -0.9431, -0.5556,  1.7103,  0.8280]])\n",
            "\n",
            "W_new = W + Delta_W:\n",
            " tensor([[ 1.5912, -2.8548, -0.3408,  1.3161, -1.8122, -0.7130],\n",
            "        [-1.5308, -5.3421, -0.9332,  1.3355, -3.3321, -0.8519],\n",
            "        [-2.0653, -6.4151, -0.2818,  2.0903, -3.3409, -1.2678],\n",
            "        [ 1.2378, -1.0553,  0.5947, -0.4247, -1.3548, -0.9730],\n",
            "        [ 2.7810,  2.4998, -0.0333, -2.2860,  1.7328,  0.4498],\n",
            "        [ 2.3649,  3.1417, -0.9614, -2.4023,  1.9880, -0.2654]])\n"
          ]
        }
      ],
      "id": "J-eB1VgfllcY"
    },
    {
      "cell_type": "markdown",
      "metadata": {
        "id": "NEOv3ficllcY"
      },
      "source": [
        "Here, we are simulating the **LoRA** technique. In an actual training scenario, $W$ (the base model weights) would be frozen, and only $A$ and $B$ would be updated during backpropagation. Then the updated weight would be $W + AB^T$.\n"
      ],
      "id": "NEOv3ficllcY"
    },
    {
      "cell_type": "markdown",
      "metadata": {
        "id": "PRSpIZSrllcY"
      },
      "source": [
        "<a id=\"mock_calcs\"></a>\n",
        "# 6. Example Calculations\n",
        "Let’s do a small conceptual calculation:\n",
        "- Suppose you have a single weight $w = 0.78$ in float32.\n",
        "- You decide to quantize to 2 bits (4 levels: $\\{0, 1, 2, 3\\}$).\n",
        "- If your range is [0, 1], then scale $\\delta = (1 - 0)/3 = 0.3333$, zero-point $\\alpha = 0$.\n",
        "- Quantized value $w_q = \\text{round}((0.78 - 0)/0.3333) = \\text{round}(2.34) = 2$.\n",
        "- Dequantized $w_{approx} = 2 \\times 0.3333 = 0.6667$.\n",
        "\n",
        "Here, you see that you lost some precision (went from 0.78 to ~0.67), but you gained efficiency.\n",
        "\n",
        "### Terms:\n",
        "- **Weight**: The parameter in the neural network.\n",
        "- **Bias**: An additional parameter added to the weighted sum before passing through an activation.\n",
        "- **Rank**: The dimension of the subspace for the LoRA update.\n",
        "- **Scale & Zero Point**: Used in quantization to map continuous ranges to discrete integer levels.\n"
      ],
      "id": "PRSpIZSrllcY"
    },
    {
      "cell_type": "markdown",
      "metadata": {
        "id": "_N3UD5rWllcY"
      },
      "source": [
        "<a id=\"step_by_step\"></a>\n",
        "# 7. Step-by-Step Example from Scratch\n",
        "We’ll build a **tiny** neural network and do the following:\n",
        "1. **Initialize** the network.\n",
        "2. **Quantize** its parameters.\n",
        "3. **Apply** a LoRA-like update.\n",
        "\n",
        "Note: This is a conceptual demonstration and not a full-blown training session.\n"
      ],
      "id": "_N3UD5rWllcY"
    },
    {
      "cell_type": "code",
      "metadata": {
        "execution": {},
        "colab": {
          "base_uri": "https://localhost:8080/"
        },
        "id": "fYp8IhR-llcY",
        "outputId": "80774ebf-3f2f-44d1-8074-8e6e6c886766"
      },
      "source": [
        "import torch\n",
        "import torch.nn as nn\n",
        "\n",
        "class TinyNet(nn.Module):\n",
        "    def __init__(self, input_dim, hidden_dim, output_dim):\n",
        "        super(TinyNet, self).__init__()\n",
        "        self.fc1 = nn.Linear(input_dim, hidden_dim)\n",
        "        self.relu = nn.ReLU()\n",
        "        self.fc2 = nn.Linear(hidden_dim, output_dim)\n",
        "\n",
        "    def forward(self, x):\n",
        "        x = self.fc1(x)\n",
        "        x = self.relu(x)\n",
        "        x = self.fc2(x)\n",
        "        return x\n",
        "\n",
        "# Step 1: Initialize network\n",
        "model = TinyNet(input_dim=4, hidden_dim=4, output_dim=2)\n",
        "print(\"Original model parameters (fc1 weight):\\n\", model.fc1.weight)\n",
        "\n",
        "# Step 2: Quantize the fc1 weight\n",
        "fc1_weight = model.fc1.weight.data\n",
        "q_fc1_weight, scale, zp = simple_quantize(fc1_weight, num_bits=4)\n",
        "model.fc1.weight.data = simple_dequantize(q_fc1_weight, scale, zp)\n",
        "\n",
        "print(\"\\nQuantized + Dequantized model parameters (fc1 weight):\\n\", model.fc1.weight)\n",
        "\n",
        "# Step 3: Apply a LoRA-like update\n",
        "r = 2\n",
        "A = torch.randn(model.fc1.weight.data.shape[0], r)\n",
        "B = torch.randn(r, model.fc1.weight.data.shape[1])\n",
        "Delta = A.mm(B)\n",
        "model.fc1.weight.data += Delta\n",
        "print(\"\\nAfter LoRA-like update (fc1 weight):\\n\", model.fc1.weight)\n"
      ],
      "execution_count": null,
      "outputs": [
        {
          "output_type": "stream",
          "name": "stdout",
          "text": [
            "Original model parameters (fc1 weight):\n",
            " Parameter containing:\n",
            "tensor([[-0.3707,  0.0318, -0.4941,  0.1818],\n",
            "        [-0.3660, -0.2462,  0.2597,  0.4726],\n",
            "        [-0.1961,  0.4204, -0.1074,  0.0015],\n",
            "        [ 0.4629,  0.2084,  0.0776, -0.1198]], requires_grad=True)\n",
            "\n",
            "Quantized + Dequantized model parameters (fc1 weight):\n",
            " Parameter containing:\n",
            "tensor([[-0.3652,  0.0215, -0.4941,  0.1504],\n",
            "        [-0.3652, -0.2363,  0.2793,  0.4726],\n",
            "        [-0.1718,  0.4082, -0.1074,  0.0215],\n",
            "        [ 0.4726,  0.2148,  0.0859, -0.1074]], requires_grad=True)\n",
            "\n",
            "After LoRA-like update (fc1 weight):\n",
            " Parameter containing:\n",
            "tensor([[ 1.0648,  0.5687,  0.0070,  0.5903],\n",
            "        [ 1.0167,  0.7033,  1.0627,  1.6390],\n",
            "        [-1.4179, -0.3033, -0.7150, -0.7853],\n",
            "        [-1.1519, -0.2765, -0.3883, -0.3721]], requires_grad=True)\n"
          ]
        }
      ],
      "id": "fYp8IhR-llcY"
    },
    {
      "cell_type": "markdown",
      "metadata": {
        "id": "zCWLSPx_llcY"
      },
      "source": [
        "We first **initialized** a tiny network. Then, we **quantized** its `fc1` weight parameter to 4 bits. Next, we **dequantized** it back and replaced the parameter in the model, simulating storing it in quantized form. Finally, we added a LoRA-like low-rank update to illustrate how we can adapt a quantized model.\n"
      ],
      "id": "zCWLSPx_llcY"
    },
    {
      "cell_type": "markdown",
      "metadata": {
        "id": "cxpLwVbbllcY"
      },
      "source": [
        "<a id=\"illustrative_problem\"></a>\n",
        "# 8. Illustrative Problem It Solves\n",
        "For instance, if you want to run a **Large Language Model** on a **resource-limited device** (like a smaller GPU or edge device), you can’t afford storing massive 32-bit floats for billions of parameters. By using 4-bit quantization, you drastically reduce memory.\n",
        "\n",
        "But you also want to **adapt** or fine-tune the model for a new language or domain. Full fine-tuning of billions of parameters is also expensive. Instead, you apply **LoRA** (only a small set of trainable parameters), and combine that with the quantized model. This is **QLoRA**, which solves the problem of running and updating large models cheaply.\n"
      ],
      "id": "cxpLwVbbllcY"
    },
    {
      "cell_type": "markdown",
      "metadata": {
        "id": "W312Kte6llcY"
      },
      "source": [
        "<a id=\"realworld_problem\"></a>\n",
        "# 9. Real-World Problems Solved\n",
        "1. **Domain adaptation**: Fine-tune a large model on a specialized domain (e.g., medical data) using LoRA, while storing the base model in 4-bit.\n",
        "2. **Edge deployment**: Deploy on embedded devices or small data centers with limited GPU memory.\n",
        "3. **Cost reduction**: Lower the hardware requirement means cheaper training and inference.\n"
      ],
      "id": "W312Kte6llcY"
    },
    {
      "cell_type": "markdown",
      "metadata": {
        "id": "rLcxYOh_llcY"
      },
      "source": [
        "<a id=\"use_tech\"></a>\n",
        "# 10. How to Solve a Real-World Problem Using This Tech\n",
        "1. **Pick a big pretrained model** (like a 7B or 13B parameter language model).\n",
        "2. **Quantize** the model using a 4-bit or 8-bit quantization tool.\n",
        "3. **Apply LoRA**: Freeze the base weights and add low-rank adapters.\n",
        "4. **Train** the LoRA parameters with a small learning rate on your domain data.\n",
        "5. **Deploy**: Use the quantized model + LoRA parameters in production. You only need to load the small LoRA overhead in full precision. Everything else is compressed.\n"
      ],
      "id": "rLcxYOh_llcY"
    },
    {
      "cell_type": "markdown",
      "metadata": {
        "id": "39O76xi3llcY"
      },
      "source": [
        "<a id=\"questions\"></a>\n",
        "# 11. What Other Questions Can You Ask? (Points to Ponder)\n",
        "1. *How do we choose the right number of bits for quantization?*\n",
        "2. *How do we select the rank $r$ for LoRA?*\n",
        "3. *When does quantization error significantly degrade performance?*\n",
        "4. *How does outlier-aware quantization improve results?*\n",
        "5. *How do we handle gradient updates in QLoRA for the quantized weights?*\n"
      ],
      "id": "39O76xi3llcY"
    },
    {
      "cell_type": "markdown",
      "metadata": {
        "id": "WZ3ediinllcY"
      },
      "source": [
        "<a id=\"answers\"></a>\n",
        "# 12. Answers to the Questions (with Code Examples)\n",
        "### 1. How do we choose the right number of bits for quantization?\n",
        "- Typically, we try 8-bit or 4-bit because they balance memory savings and accuracy. 2-bit might be too aggressive. The best way is to **experiment** on a validation set.\n",
        "\n",
        "### 2. How do we select the rank $r$ for LoRA?\n",
        "- This depends on how complex the new task is. A higher rank means more parameters to learn, but better capacity. A typical range is $r \\in [4, 64]$ for LLM fine-tuning.\n",
        "\n",
        "### 3. When does quantization error significantly degrade performance?\n",
        "- If your network is very sensitive to small changes in weights or if you quantize to too few bits (2-bit or 3-bit). Large networks tend to be somewhat robust to quantization, but tasks requiring very high precision might suffer.\n",
        "\n",
        "### 4. How does outlier-aware quantization improve results?\n",
        "- Some weights (outliers) can be very large, messing up min-max scaling. Outlier-aware quantization uses separate scaling for outliers or specialized algorithms to reduce the impact of these extreme values.\n",
        "\n",
        "### 5. How do we handle gradient updates in QLoRA for the quantized weights?\n",
        "- In practice, the gradients are computed in higher precision. We don’t update the quantized weights directly. Instead, we update the LoRA parameters. The quantized weights remain mostly unchanged.\n"
      ],
      "id": "WZ3ediinllcY"
    },
    {
      "cell_type": "markdown",
      "metadata": {
        "id": "f9p-Xk3CllcY"
      },
      "source": [
        "<a id=\"easy_sample\"></a>\n",
        "# 13. A Sample Exercise\n",
        "Below is a **template** code you can run and fill in the TODO items. It demonstrates building a small network, quantizing it, and applying a LoRA update. Complete the TODOs to see how it works.\n"
      ],
      "id": "f9p-Xk3CllcY"
    },
    {
      "cell_type": "code",
      "metadata": {
        "execution": {},
        "colab": {
          "base_uri": "https://localhost:8080/"
        },
        "id": "qm4AhANVllcY",
        "outputId": "df1e3a28-7f30-470f-beb9-cd6487d818d8"
      },
      "source": [
        "# TODO: Complete and run this code.\n",
        "import torch\n",
        "import torch.nn as nn\n",
        "\n",
        "def my_quantize(tensor, num_bits=4):\n",
        "    # TODO: Implement a simple min-max quantization\n",
        "    # 1. Find the min and max of the tensor\n",
        "    # 2. Compute scale = (max - min) / (levels - 1)\n",
        "    # 3. Compute zero_point = min\n",
        "    # 4. Quantize by rounding\n",
        "    minv = tensor.min()\n",
        "    maxv = tensor.max()\n",
        "    scale = (maxv - minv) / (2 ** num_bits - 1)\n",
        "    zero_point = minv\n",
        "    quantized = torch.round((tensor - zero_point) / scale)\n",
        "    return quantized, scale, zero_point\n",
        "\n",
        "def my_dequantize(quantized_tensor, scale, zero_point):\n",
        "    # TODO: Implement the reverse process\n",
        "    return quantized_tensor * scale + zero_point\n",
        "\n",
        "# Define a simple linear layer\n",
        "linear = nn.Linear(3, 2, bias=False)\n",
        "\n",
        "# Print original parameters\n",
        "print(\"Original params:\", linear.weight)\n",
        "\n",
        "# TODO: Call my_quantize on linear.weight.data\n",
        "q_weight, scale, zp = my_quantize(linear.weight.data, num_bits=4)\n",
        "\n",
        "# TODO: Dequantize\n",
        "dq_weight = my_dequantize(q_weight, scale, zp)\n",
        "\n",
        "# TODO: Assign dq_weight back to linear.weight.data\n",
        "linear.weight.data = dq_weight\n",
        "\n",
        "# Create LoRA-like update\n",
        "r = 1\n",
        "A = torch.randn(linear.weight.size(0), r)\n",
        "B = torch.randn(r, linear.weight.size(1))\n",
        "Delta = A.mm(B)\n",
        "\n",
        "# TODO: Add Delta to linear.weight.data\n",
        "linear.weight.data += Delta\n",
        "\n",
        "# Print updated parameters\n",
        "print(\"\\nUpdated params after LoRA-like update (complete the TODOs first):\", linear.weight)\n"
      ],
      "execution_count": null,
      "outputs": [
        {
          "output_type": "stream",
          "name": "stdout",
          "text": [
            "Original params: Parameter containing:\n",
            "tensor([[ 0.0100, -0.2597, -0.5754],\n",
            "        [ 0.0595,  0.5132,  0.4081]], requires_grad=True)\n",
            "\n",
            "Updated params after LoRA-like update (complete the TODOs first): Parameter containing:\n",
            "tensor([[-0.5791,  0.6882, -1.1573],\n",
            "        [-0.2583,  1.0730,  0.1060]], requires_grad=True)\n"
          ]
        }
      ],
      "id": "qm4AhANVllcY"
    },
    {
      "cell_type": "markdown",
      "metadata": {
        "id": "jup7H0O-llcZ"
      },
      "source": [
        "By filling in the `TODO`s, you’ll practice implementing your own min-max quantization logic, dequantization, and finally adding a LoRA-like update.\n"
      ],
      "id": "jup7H0O-llcZ"
    },
    {
      "cell_type": "markdown",
      "metadata": {
        "id": "cUFg0tBMllcZ"
      },
      "source": [
        "<a id=\"glossary\"></a>\n",
        "# 14. Glossary\n",
        "- **Quantization**: Reducing the number of bits used to represent numbers in neural networks.\n",
        "- **LoRA (Low-Rank Adaptation)**: A method that updates only a small set of parameters through low-rank factorization.\n",
        "- **QLoRA**: 4-bit quantization + LoRA to fine-tune large models efficiently.\n",
        "- **Scale**: Factor used to scale floating-point range into a smaller discrete range.\n",
        "- **Zero Point (Offset)**: A shift added so that the minimum value can map to 0 in quantized integer space.\n",
        "- **Rank**: The number of columns in matrix A (and rows in matrix B) for LoRA.\n",
        "- **Parameter-Efficient Fine-Tuning**: Methods that avoid updating all model parameters.\n",
        "- **Outlier-Aware Quantization**: Specialized approach for dealing with extremely large or small weight values.\n",
        "- **Min-Max Quantization**: The simplest form of quantization using the min and max of the data.\n",
        "- **bitsandbytes**: A popular library for 8-bit and 4-bit optimization and quantization.\n"
      ],
      "id": "cUFg0tBMllcZ"
    },
    {
      "cell_type": "markdown",
      "metadata": {
        "id": "eC3J5_kNllcZ"
      },
      "source": [
        "## Conclusion\n",
        "With these examples and explanations, you should now have a comprehensive understanding of **Quantization**, **LoRA**, and **QLoRA**, along with their theory, mathematics, and practical implementation details. Happy exploring and coding!"
      ],
      "id": "eC3J5_kNllcZ"
    },
    {
      "cell_type": "code",
      "metadata": {
        "colab": {
          "base_uri": "https://localhost:8080/"
        },
        "id": "TY5MppxPllcZ",
        "outputId": "295a514c-b4c9-4325-b4af-d773421c4dc3"
      },
      "source": [
        "import os, sys, platform, datetime, uuid, socket\n",
        "\n",
        "def signoff(name=\"Anonymous\"):\n",
        "    colab_check = \"Yes\" if 'google.colab' in sys.modules else \"No\"\n",
        "    mac_addr = ':'.join(format((uuid.getnode() >> i) & 0xff, '02x') for i in reversed(range(0, 48, 8)))\n",
        "    print(\"+++ Acknowledgement +++\")\n",
        "    print(f\"Executed on: {datetime.datetime.now()}\")\n",
        "    print(f\"In Google Colab: {colab_check}\")\n",
        "    print(f\"System info: {platform.system()} {platform.release()}\")\n",
        "    print(f\"Node name: {platform.node()}\")\n",
        "    print(f\"MAC address: {mac_addr}\")\n",
        "    try:\n",
        "        print(f\"IP address: {socket.gethostbyname(socket.gethostname())}\")\n",
        "    except:\n",
        "        print(\"IP address: Unknown\")\n",
        "    print(f\"Signing off, {name}\")\n",
        "\n",
        "signoff(\"Kushal Chandani\")\n"
      ],
      "execution_count": null,
      "outputs": [
        {
          "output_type": "stream",
          "name": "stdout",
          "text": [
            "+++ Acknowledgement +++\n",
            "Executed on: 2025-02-02 18:06:16.160094\n",
            "In Google Colab: Yes\n",
            "System info: Linux 6.1.85+\n",
            "Node name: f134a40a4502\n",
            "MAC address: 02:42:ac:1c:00:0c\n",
            "IP address: 172.28.0.12\n",
            "Signing off, Kushal Chandani\n"
          ]
        }
      ],
      "id": "TY5MppxPllcZ"
    },
    {
      "cell_type": "code",
      "source": [],
      "metadata": {
        "id": "kev22-ak13vJ"
      },
      "id": "kev22-ak13vJ",
      "execution_count": null,
      "outputs": []
    }
  ]
}