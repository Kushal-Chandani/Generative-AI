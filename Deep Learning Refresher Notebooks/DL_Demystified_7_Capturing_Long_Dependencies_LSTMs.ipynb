{
  "nbformat": 4,
  "nbformat_minor": 5,
  "metadata": {
    "name": "LSTM_Deep_Dive_Dr_Adnan_Masood",
    "colab": {
      "provenance": []
    },
    "language_info": {
      "name": "python"
    },
    "kernelspec": {
      "name": "python3",
      "display_name": "Python 3"
    }
  },
  "cells": [
    {
      "cell_type": "code",
      "metadata": {
        "id": "6q3CgaJvvsow"
      },
      "source": [
        "#################################################################\n",
        "#                                                               #\n",
        "#  CS435 Generative AI: Security, Ethics and Governance         #\n",
        "#                                                               #\n",
        "#  Instructor: Dr. Adnan Masood                                 #\n",
        "#  Contact:    adnanmasood@gmail.com                            #\n",
        "#                                                               #\n",
        "#  Notebook is MIT Licensed                                     #\n",
        "#################################################################\n"
      ],
      "execution_count": null,
      "outputs": [],
      "id": "6q3CgaJvvsow"
    },
    {
      "cell_type": "markdown",
      "metadata": {
        "id": "6h-Z7FeSvsoy"
      },
      "source": [
        "# Long Short-Term Memory (LSTM) Networks\n",
        "\n",
        "Welcome to our session on **Long Short-Term Memory (LSTM)** networks!\n",
        "\n",
        "In this Jupyter notebook, we will explore LSTMs at **five different levels** of explanation (from simpler to advanced), while providing code samples, equations, examples, and exercises. This notebook is structured so you can **run each code cell** and see how it works for yourself.\n",
        "\n",
        "## Building an Intuitive Understanding\n",
        "\n",
        "We will then cover:\n",
        "- **Intuition behind the technology**\n",
        "- **History and invention of LSTM**\n",
        "- **Illustrative examples with code**\n",
        "- **Example calculations** (weights, biases, gates)\n",
        "- **Step-by-step example from scratch**\n",
        "- **Illustrative problem** LSTMs solve\n",
        "- **Real-world problem** LSTMs solve\n",
        "- **Questions to ponder**\n",
        "- **Answers** with code examples\n",
        "- **TODO code sample** with hints\n",
        "- **Glossary** of important terms\n"
      ],
      "id": "6h-Z7FeSvsoy"
    },
    {
      "cell_type": "markdown",
      "metadata": {
        "id": "DcBZr5bnvsoz"
      },
      "source": [
        "Imagine you have a special notepad that can remember important things and forget unimportant things. That’s what an **LSTM** (Long Short-Term Memory) is for a computer.\n",
        "\n",
        "- A normal computer tries to remember everything, but that can be overwhelming.\n",
        "- An LSTM decides what to keep, what to throw away, and what to use right now.\n",
        "\n",
        "This helps when you want a machine to learn from things that happen in a sequence—like **words in a sentence**, **notes in a song**, or **data points in a time series**. The LSTM is good at handling important memories from the past, while forgetting stuff that’s not important."
      ],
      "id": "DcBZr5bnvsoz"
    },
    {
      "cell_type": "markdown",
      "metadata": {
        "id": "KqzfUiVIvsoz"
      },
      "source": [
        "### Intuition Behind LSTM\n",
        "Think of an LSTM as a **smart filter** for remembering and forgetting information:\n",
        "1. It looks at new information.\n",
        "2. It looks at what it already knows.\n",
        "3. It decides **“Should I remember this new piece of information or forget it?”**\n",
        "4. It also decides **“How much of the old memory should I keep?”**\n",
        "\n",
        "LSTMs are used for all sorts of tasks involving sequences:\n",
        "- **Text generation** (Predicting the next word)\n",
        "- **Sentiment analysis** (Reading a tweet or sentence and deciding if it’s positive or negative)\n",
        "- **Time series forecasting** (Predicting stock prices or weather based on past data)\n",
        "- **Speech recognition** (Understanding spoken words)\n",
        "\n",
        "### A Brief History\n",
        "- **1997**: LSTM was introduced by **Sepp Hochreiter and Jürgen Schmidhuber**.\n",
        "- It was invented because older models, known as **RNNs (Recurrent Neural Networks)**, had trouble remembering information for more than a few steps (known as the **vanishing gradient** problem).\n",
        "- LSTMs added a clever architecture to fix that problem by using **gates** to manage information.\n"
      ],
      "id": "KqzfUiVIvsoz"
    },
    {
      "cell_type": "markdown",
      "metadata": {
        "id": "fgGDbB2Xvsoz"
      },
      "source": [
        "### Underlying Technology (How LSTM Works)\n",
        "An LSTM is a special type of Recurrent Neural Network (RNN) cell. In a regular RNN, we have:\n",
        "```\n",
        "h_t = tanh(W_h * [h_{t-1}, x_t] + b_h)\n",
        "```\n",
        "Where:\n",
        "- **h_t** is the hidden state at time step **t**.\n",
        "- **x_t** is the input at time step **t**.\n",
        "- **W_h** and **b_h** are parameters (weights and biases).\n",
        "\n",
        "But in an LSTM cell, we introduce something called the **cell state**, denoted as **C_t**. The cell state is like a conveyor belt that can carry information from the past to the future. The LSTM can add or remove information from the cell state using **gates**.\n",
        "\n",
        "### Three Main Gates in an LSTM\n",
        "1. **Forget Gate ($f_t$)**: Decides what information to **forget** from the cell state.\n",
        "2. **Input Gate ($i_t$)**: Decides what new information to store in the cell state.\n",
        "3. **Output Gate ($o_t$)**: Decides what information from the cell state we will **output** at this time step.\n",
        "\n",
        "Additionally, there's a candidate cell state update $\\tilde{C}_t$ which is proposed new information to add into the cell.\n",
        "\n",
        "So at each time step **t**:\n",
        "\n",
        "1. We read the input **x_t** and previous hidden state **h_{t-1}**.\n",
        "2. We compute the **forget gate**: how much of the previous cell state **C_{t-1}** do we keep?\n",
        "3. We compute the **input gate**: how much new information (candidate) do we add?\n",
        "4. We update the cell state **C_t**.\n",
        "5. We compute the **output gate**: how much of the new cell state do we reveal as the new hidden state **h_t**?\n"
      ],
      "id": "fgGDbB2Xvsoz"
    },
    {
      "cell_type": "markdown",
      "metadata": {
        "id": "08Hq4rXcvso0"
      },
      "source": [
        "### Mathematical Details of LSTM\n",
        "\n",
        "Below are the key LSTM equations. Each gate is a function of the current input $x_t$ and the previous hidden state $h_{t-1}$. We typically group them together as $[h_{t-1}, x_t]$ when we multiply by the respective weight matrices.\n",
        "\n",
        "1. **Forget Gate**: $f_t$\n",
        "$$\n",
        "f_t = \\sigma(W_f \\cdot [h_{t-1}, x_t] + b_f)\n",
        "$$\n",
        "Here, $f_t$ ranges between 0 and 1, indicating how much of the old cell state you keep.\n",
        "\n",
        "2. **Input Gate**: $i_t$\n",
        "$$\n",
        "i_t = \\sigma(W_i \\cdot [h_{t-1}, x_t] + b_i)\n",
        "$$\n",
        "This gate controls how much new information gets stored in the cell state.\n",
        "\n",
        "3. **Candidate Cell State**: $\\tilde{C}_t$\n",
        "$$\n",
        "\\tilde{C}_t = \\tanh(W_C \\cdot [h_{t-1}, x_t] + b_C)\n",
        "$$\n",
        "This is the new information (candidate) that could be added to the cell state.\n",
        "\n",
        "4. **New Cell State**: $C_t$\n",
        "$$\n",
        "C_t = f_t \\odot C_{t-1} + i_t \\odot \\tilde{C}_t\n",
        "$$\n",
        "The new cell state is a combination of the old state (scaled by the forget gate) and the candidate state (scaled by the input gate).\n",
        "\n",
        "5. **Output Gate**: $o_t$\n",
        "$$\n",
        "o_t = \\sigma(W_o \\cdot [h_{t-1}, x_t] + b_o)\n",
        "$$\n",
        "This decides how much of the cell state to output.\n",
        "\n",
        "6. **New Hidden State**: $h_t$\n",
        "$$\n",
        "h_t = o_t \\odot \\tanh(C_t)\n",
        "$$\n",
        "\n",
        "### Explanation of Terms\n",
        "- $W_f, W_i, W_C, W_o$: Weight matrices for forget, input, candidate, and output.\n",
        "- $b_f, b_i, b_C, b_o$: Biases for forget, input, candidate, and output.\n",
        "- $\\sigma$: Sigmoid function (outputs between 0 and 1).\n",
        "- $\\tanh$: Hyperbolic tangent function (outputs between -1 and 1).\n",
        "- $\\odot$: Element-wise multiplication.\n",
        "\n",
        "### Example Calculations\n",
        "Let’s assume for a particular time step:\n",
        "- **h_{t-1}** = [0.2, 0.4]\n",
        "- **x_t** = [0.6, 0.1]\n",
        "- Weights (W_f, W_i, etc.) are some matrices we multiply.\n",
        "- Biases are added.\n",
        "1. We compute $[h_{t-1}, x_t]$ = [0.2, 0.4, 0.6, 0.1]\n",
        "2. Multiply by a weight matrix (for example, W_f) and add b_f.\n",
        "3. Apply the sigmoid function to get a value between 0 and 1.\n",
        "4. That value decides how much of the old cell state to keep.\n",
        "\n",
        "By repeating this for input gate, candidate, and output gate, we systematically update our hidden state and cell state.\n"
      ],
      "id": "08Hq4rXcvso0"
    },
    {
      "cell_type": "markdown",
      "metadata": {
        "id": "TQZGngouvso0"
      },
      "source": [
        "At this advanced level, we delve into **research directions**:\n",
        "- **Variants of LSTM**: GRU (Gated Recurrent Unit), Peephole LSTM, BiLSTM, etc.\n",
        "- **Optimization Challenges**: How to properly initialize weights, choose learning rates, etc.\n",
        "- **Regularization**: Dropout in RNNs, recurrent dropout.\n",
        "- **Applications**: advanced language models, speech recognition, video analysis.\n",
        "- **Questions**: How do we interpret cell states in tasks like sentiment analysis? How do we reduce complexity for large vocabularies?\n",
        "\n",
        "You can ask questions such as:\n",
        "1. *How do you handle very long sequences without losing information?*\n",
        "2. *What happens if the forget gate is always close to 1?*\n",
        "3. *How do we interpret attention mechanisms in the context of LSTM-based architectures?*\n",
        "4. *When should we prefer GRU over LSTM?*\n",
        "5. *How do we visualize the internal states to gain interpretability?*\n",
        "\n",
        "We will provide some short answers and code examples to illustrate these soon.\n"
      ],
      "id": "TQZGngouvso0"
    },
    {
      "cell_type": "markdown",
      "metadata": {
        "id": "MMJAghOrvso1"
      },
      "source": [
        "# Step-by-Step Example: Building an LSTM from Scratch\n",
        "\n",
        "Below is a simplified example (a demonstration, not a full training pipeline on a large dataset) to show how you might build an LSTM cell from scratch. We’ll use Python and NumPy to illustrate the core ideas. This is just to build intuition; in practice, libraries like PyTorch or TensorFlow handle these details for you."
      ],
      "id": "MMJAghOrvso1"
    },
    {
      "cell_type": "code",
      "metadata": {
        "tags": [],
        "colab": {
          "base_uri": "https://localhost:8080/"
        },
        "id": "Htt4oio6vso1",
        "outputId": "a0a92977-f0f7-425b-8361-072fa5038ad2"
      },
      "source": [
        "import numpy as np\n",
        "\n",
        "def sigmoid(x):\n",
        "    return 1 / (1 + np.exp(-x))\n",
        "\n",
        "def tanh(x):\n",
        "    return np.tanh(x)\n",
        "\n",
        "# Initialize random seed for reproducibility\n",
        "np.random.seed(42)\n",
        "\n",
        "# Let's define the input dimension (x_t) and hidden dimension (h_t)\n",
        "input_dim = 3  # for example\n",
        "hidden_dim = 2\n",
        "\n",
        "# Initialize weight matrices for forget, input, candidate, output\n",
        "W_f = np.random.randn(hidden_dim, hidden_dim + input_dim)\n",
        "W_i = np.random.randn(hidden_dim, hidden_dim + input_dim)\n",
        "W_c = np.random.randn(hidden_dim, hidden_dim + input_dim)\n",
        "W_o = np.random.randn(hidden_dim, hidden_dim + input_dim)\n",
        "\n",
        "# Initialize biases\n",
        "b_f = np.random.randn(hidden_dim, 1)\n",
        "b_i = np.random.randn(hidden_dim, 1)\n",
        "b_c = np.random.randn(hidden_dim, 1)\n",
        "b_o = np.random.randn(hidden_dim, 1)\n",
        "\n",
        "# Initial hidden state h_{t-1} and cell state C_{t-1}\n",
        "h_prev = np.zeros((hidden_dim, 1))\n",
        "C_prev = np.zeros((hidden_dim, 1))\n",
        "\n",
        "# Single time-step forward pass of LSTM\n",
        "def lstm_step(x_t, h_prev, C_prev):\n",
        "    # Combine h_{t-1} and x_t\n",
        "    concat = np.vstack((h_prev, x_t))  # shape: (hidden_dim + input_dim, 1)\n",
        "\n",
        "    # Forget gate\n",
        "    f_t = sigmoid(np.dot(W_f, concat) + b_f)  # shape: (hidden_dim, 1)\n",
        "\n",
        "    # Input gate\n",
        "    i_t = sigmoid(np.dot(W_i, concat) + b_i)  # shape: (hidden_dim, 1)\n",
        "\n",
        "    # Candidate cell state\n",
        "    C_tilde = tanh(np.dot(W_c, concat) + b_c)  # shape: (hidden_dim, 1)\n",
        "\n",
        "    # New cell state\n",
        "    C_t = f_t * C_prev + i_t * C_tilde\n",
        "\n",
        "    # Output gate\n",
        "    o_t = sigmoid(np.dot(W_o, concat) + b_o)  # shape: (hidden_dim, 1)\n",
        "\n",
        "    # New hidden state\n",
        "    h_t = o_t * tanh(C_t)\n",
        "\n",
        "    return h_t, C_t\n",
        "\n",
        "# Example input x_t of shape (input_dim, 1)\n",
        "x_t = np.array([[0.5], [0.1], [0.9]])\n",
        "\n",
        "h_next, C_next = lstm_step(x_t, h_prev, C_prev)\n",
        "print('New hidden state (h_next):\\n', h_next)\n",
        "print('\\nNew cell state (C_next):\\n', C_next)"
      ],
      "execution_count": null,
      "outputs": [
        {
          "output_type": "stream",
          "name": "stdout",
          "text": [
            "New hidden state (h_next):\n",
            " [[-0.07794162]\n",
            " [-0.06642324]]\n",
            "\n",
            "New cell state (C_next):\n",
            " [[-0.1448926 ]\n",
            " [-0.12589963]]\n"
          ]
        }
      ],
      "id": "Htt4oio6vso1"
    },
    {
      "cell_type": "markdown",
      "metadata": {
        "id": "hLYCZ9a0vso2"
      },
      "source": [
        "Running the cell above will give you a sense of how the LSTM cell updates from one time step to the next, using the random weights and biases we created.\n",
        "\n",
        "## Illustrative Problem LSTMs Solve\n",
        "A classic example is **predicting the next word in a sentence**. The LSTM sees a sequence of words (converted to numbers), then it tries to predict the next word. Over many examples, it learns patterns in language.\n",
        "\n",
        "## Real-world Problem\n",
        "A very common real-world problem is **time series forecasting** for sales, stock prices, or even electricity consumption. LSTMs are well-suited because they can remember crucial patterns over time.\n",
        "\n",
        "### How to Solve a Real-World Problem Using LSTMs\n",
        "1. **Collect data**: e.g., daily stock prices over the past five years.\n",
        "2. **Preprocess**: scale values, create sequences of input data (e.g., the past 60 days as input to predict the next day).\n",
        "3. **Build an LSTM model** (using TensorFlow or PyTorch).\n",
        "4. **Train the model** on historical data.\n",
        "5. **Evaluate** on unseen data and measure error.\n",
        "6. **Deploy** or use the model to forecast future values.\n",
        "\n",
        "## Questions to Illustrate the Use of LSTM\n",
        "1. **Why do we need gates in LSTM?**\n",
        "2. **How does the forget gate help fix the vanishing gradient problem?**\n",
        "3. **What is the difference between an LSTM and a GRU?**\n",
        "4. **When might you choose a simple RNN over an LSTM?**\n",
        "5. **What are some ways to regularize an LSTM to prevent overfitting?**\n",
        "\n",
        "## Short Answers\n",
        "1. *We need gates to control how much information flows in and out of the cell state, solving the memory and forgetting mechanisms.*\n",
        "2. *The forget gate scales the old memory, allowing it to pass information over many timesteps without being multiplied by small numbers repeatedly.*\n",
        "3. *A GRU (Gated Recurrent Unit) has fewer gates (just reset and update), making it slightly simpler and sometimes faster to train.*\n",
        "4. *For short sequences with minimal long-range dependencies, a simple RNN can work and is faster.*\n",
        "5. *You can use dropout between layers, recurrent dropout, or L2 regularization on weights.*\n"
      ],
      "id": "hLYCZ9a0vso2"
    },
    {
      "cell_type": "markdown",
      "metadata": {
        "id": "BZpNSpZevso2"
      },
      "source": [
        "## A Sample Exercise\n",
        "\n",
        "Now let’s build a simple LSTM for a **toy sequence prediction** problem using **TensorFlow/Keras**. We’ll create a small dataset and ask students to complete some TODO items.\n"
      ],
      "id": "BZpNSpZevso2"
    },
    {
      "cell_type": "code",
      "source": [
        "!pip install tensorflow"
      ],
      "metadata": {
        "colab": {
          "base_uri": "https://localhost:8080/"
        },
        "id": "Qviu8iLLki8q",
        "outputId": "c52fcd76-8890-4669-cbb2-2a2066d21440"
      },
      "id": "Qviu8iLLki8q",
      "execution_count": null,
      "outputs": [
        {
          "output_type": "stream",
          "name": "stdout",
          "text": [
            "Requirement already satisfied: tensorflow in /usr/local/lib/python3.11/dist-packages (2.18.0)\n",
            "Requirement already satisfied: absl-py>=1.0.0 in /usr/local/lib/python3.11/dist-packages (from tensorflow) (1.4.0)\n",
            "Requirement already satisfied: astunparse>=1.6.0 in /usr/local/lib/python3.11/dist-packages (from tensorflow) (1.6.3)\n",
            "Requirement already satisfied: flatbuffers>=24.3.25 in /usr/local/lib/python3.11/dist-packages (from tensorflow) (25.1.24)\n",
            "Requirement already satisfied: gast!=0.5.0,!=0.5.1,!=0.5.2,>=0.2.1 in /usr/local/lib/python3.11/dist-packages (from tensorflow) (0.6.0)\n",
            "Requirement already satisfied: google-pasta>=0.1.1 in /usr/local/lib/python3.11/dist-packages (from tensorflow) (0.2.0)\n",
            "Requirement already satisfied: libclang>=13.0.0 in /usr/local/lib/python3.11/dist-packages (from tensorflow) (18.1.1)\n",
            "Requirement already satisfied: opt-einsum>=2.3.2 in /usr/local/lib/python3.11/dist-packages (from tensorflow) (3.4.0)\n",
            "Requirement already satisfied: packaging in /usr/local/lib/python3.11/dist-packages (from tensorflow) (24.2)\n",
            "Requirement already satisfied: protobuf!=4.21.0,!=4.21.1,!=4.21.2,!=4.21.3,!=4.21.4,!=4.21.5,<6.0.0dev,>=3.20.3 in /usr/local/lib/python3.11/dist-packages (from tensorflow) (4.25.6)\n",
            "Requirement already satisfied: requests<3,>=2.21.0 in /usr/local/lib/python3.11/dist-packages (from tensorflow) (2.32.3)\n",
            "Requirement already satisfied: setuptools in /usr/local/lib/python3.11/dist-packages (from tensorflow) (75.1.0)\n",
            "Requirement already satisfied: six>=1.12.0 in /usr/local/lib/python3.11/dist-packages (from tensorflow) (1.17.0)\n",
            "Requirement already satisfied: termcolor>=1.1.0 in /usr/local/lib/python3.11/dist-packages (from tensorflow) (2.5.0)\n",
            "Requirement already satisfied: typing-extensions>=3.6.6 in /usr/local/lib/python3.11/dist-packages (from tensorflow) (4.12.2)\n",
            "Requirement already satisfied: wrapt>=1.11.0 in /usr/local/lib/python3.11/dist-packages (from tensorflow) (1.17.2)\n",
            "Requirement already satisfied: grpcio<2.0,>=1.24.3 in /usr/local/lib/python3.11/dist-packages (from tensorflow) (1.70.0)\n",
            "Requirement already satisfied: tensorboard<2.19,>=2.18 in /usr/local/lib/python3.11/dist-packages (from tensorflow) (2.18.0)\n",
            "Requirement already satisfied: keras>=3.5.0 in /usr/local/lib/python3.11/dist-packages (from tensorflow) (3.8.0)\n",
            "Requirement already satisfied: numpy<2.1.0,>=1.26.0 in /usr/local/lib/python3.11/dist-packages (from tensorflow) (1.26.4)\n",
            "Requirement already satisfied: h5py>=3.11.0 in /usr/local/lib/python3.11/dist-packages (from tensorflow) (3.12.1)\n",
            "Requirement already satisfied: ml-dtypes<0.5.0,>=0.4.0 in /usr/local/lib/python3.11/dist-packages (from tensorflow) (0.4.1)\n",
            "Requirement already satisfied: tensorflow-io-gcs-filesystem>=0.23.1 in /usr/local/lib/python3.11/dist-packages (from tensorflow) (0.37.1)\n",
            "Requirement already satisfied: wheel<1.0,>=0.23.0 in /usr/local/lib/python3.11/dist-packages (from astunparse>=1.6.0->tensorflow) (0.45.1)\n",
            "Requirement already satisfied: rich in /usr/local/lib/python3.11/dist-packages (from keras>=3.5.0->tensorflow) (13.9.4)\n",
            "Requirement already satisfied: namex in /usr/local/lib/python3.11/dist-packages (from keras>=3.5.0->tensorflow) (0.0.8)\n",
            "Requirement already satisfied: optree in /usr/local/lib/python3.11/dist-packages (from keras>=3.5.0->tensorflow) (0.14.0)\n",
            "Requirement already satisfied: charset-normalizer<4,>=2 in /usr/local/lib/python3.11/dist-packages (from requests<3,>=2.21.0->tensorflow) (3.4.1)\n",
            "Requirement already satisfied: idna<4,>=2.5 in /usr/local/lib/python3.11/dist-packages (from requests<3,>=2.21.0->tensorflow) (3.10)\n",
            "Requirement already satisfied: urllib3<3,>=1.21.1 in /usr/local/lib/python3.11/dist-packages (from requests<3,>=2.21.0->tensorflow) (2.3.0)\n",
            "Requirement already satisfied: certifi>=2017.4.17 in /usr/local/lib/python3.11/dist-packages (from requests<3,>=2.21.0->tensorflow) (2024.12.14)\n",
            "Requirement already satisfied: markdown>=2.6.8 in /usr/local/lib/python3.11/dist-packages (from tensorboard<2.19,>=2.18->tensorflow) (3.7)\n",
            "Requirement already satisfied: tensorboard-data-server<0.8.0,>=0.7.0 in /usr/local/lib/python3.11/dist-packages (from tensorboard<2.19,>=2.18->tensorflow) (0.7.2)\n",
            "Requirement already satisfied: werkzeug>=1.0.1 in /usr/local/lib/python3.11/dist-packages (from tensorboard<2.19,>=2.18->tensorflow) (3.1.3)\n",
            "Requirement already satisfied: MarkupSafe>=2.1.1 in /usr/local/lib/python3.11/dist-packages (from werkzeug>=1.0.1->tensorboard<2.19,>=2.18->tensorflow) (3.0.2)\n",
            "Requirement already satisfied: markdown-it-py>=2.2.0 in /usr/local/lib/python3.11/dist-packages (from rich->keras>=3.5.0->tensorflow) (3.0.0)\n",
            "Requirement already satisfied: pygments<3.0.0,>=2.13.0 in /usr/local/lib/python3.11/dist-packages (from rich->keras>=3.5.0->tensorflow) (2.18.0)\n",
            "Requirement already satisfied: mdurl~=0.1 in /usr/local/lib/python3.11/dist-packages (from markdown-it-py>=2.2.0->rich->keras>=3.5.0->tensorflow) (0.1.2)\n"
          ]
        }
      ]
    },
    {
      "cell_type": "code",
      "metadata": {
        "colab": {
          "base_uri": "https://localhost:8080/"
        },
        "id": "ZfocfnuGvso2",
        "outputId": "a01460c9-13c2-47ed-ffa2-941b48fa8bf7"
      },
      "source": [
        "#@title Imports\n",
        "import numpy as np\n",
        "import tensorflow as tf\n",
        "from tensorflow.keras.models import Sequential\n",
        "from tensorflow.keras.layers import LSTM, Dense\n",
        "from tensorflow.keras.optimizers import Adam\n",
        "\n",
        "print(tf.__version__)\n",
        "np.random.seed(42)\n",
        "tf.random.set_seed(42)"
      ],
      "execution_count": null,
      "outputs": [
        {
          "output_type": "stream",
          "name": "stdout",
          "text": [
            "2.18.0\n"
          ]
        }
      ],
      "id": "ZfocfnuGvso2"
    },
    {
      "cell_type": "markdown",
      "metadata": {
        "id": "BD4CvSfxvso2"
      },
      "source": [
        "### Create a Toy Dataset\n",
        "We’ll create a simple time-series dataset where the **input** is a sequence of numbers and the **target** is the next number in the sequence. For example:\n",
        "```\n",
        "Input sequence: [0, 1, 2]\n",
        "Target: 3\n",
        "```\n",
        "```\n",
        "Input sequence: [1, 2, 3]\n",
        "Target: 4\n",
        "```\n",
        "And so on.\n"
      ],
      "id": "BD4CvSfxvso2"
    },
    {
      "cell_type": "code",
      "metadata": {
        "colab": {
          "base_uri": "https://localhost:8080/"
        },
        "id": "3XmeWfuYvso2",
        "outputId": "3f62e490-8557-42df-e180-79dfa5859549"
      },
      "source": [
        "# Define sequence length and create data\n",
        "sequence_length = 3\n",
        "data = np.array(range(30))  # 0 to 29\n",
        "\n",
        "X = []\n",
        "y = []\n",
        "for i in range(len(data) - sequence_length):\n",
        "    X.append(data[i:i+sequence_length])\n",
        "    y.append(data[i+sequence_length])\n",
        "\n",
        "X = np.array(X)\n",
        "y = np.array(y)\n",
        "\n",
        "print(\"X shape:\", X.shape)\n",
        "print(\"y shape:\", y.shape)\n",
        "print(\"Sample X:\", X[:5])\n",
        "print(\"Sample y:\", y[:5])"
      ],
      "execution_count": null,
      "outputs": [
        {
          "output_type": "stream",
          "name": "stdout",
          "text": [
            "X shape: (27, 3)\n",
            "y shape: (27,)\n",
            "Sample X: [[0 1 2]\n",
            " [1 2 3]\n",
            " [2 3 4]\n",
            " [3 4 5]\n",
            " [4 5 6]]\n",
            "Sample y: [3 4 5 6 7]\n"
          ]
        }
      ],
      "id": "3XmeWfuYvso2"
    },
    {
      "cell_type": "markdown",
      "metadata": {
        "id": "VHk3zezwvso2"
      },
      "source": [
        "### Reshape for LSTM Input\n",
        "Keras LSTMs expect a 3D input of shape: `(batch_size, timesteps, features)`. Here, our `features` = 1 (since we only have one value at each timestep)."
      ],
      "id": "VHk3zezwvso2"
    },
    {
      "cell_type": "code",
      "metadata": {
        "colab": {
          "base_uri": "https://localhost:8080/"
        },
        "id": "t0oi1bOxvso2",
        "outputId": "6a062c53-c6bc-4eaf-f78e-17f8ae40a311"
      },
      "source": [
        "X = X.reshape((X.shape[0], X.shape[1], 1))\n",
        "print(\"Reshaped X:\", X.shape)"
      ],
      "execution_count": null,
      "outputs": [
        {
          "output_type": "stream",
          "name": "stdout",
          "text": [
            "Reshaped X: (27, 3, 1)\n"
          ]
        }
      ],
      "id": "t0oi1bOxvso2"
    },
    {
      "cell_type": "markdown",
      "metadata": {
        "id": "olKpfSONvso2"
      },
      "source": [
        "### Build an LSTM Model\n",
        "\n",
        "#### TODO:\n",
        "1. Change the number of LSTM units to 10.\n",
        "2. Add another Dense layer.\n",
        "3. Compile with a different optimizer (like `tf.keras.optimizers.Adam(learning_rate=0.01)`).\n",
        "\n",
        "Hints:\n",
        "- You can add more layers by doing `model.add(Dense( ... ))`.\n",
        "- You can set the learning rate in the Adam optimizer: `Adam(learning_rate=0.01)`.\n"
      ],
      "id": "olKpfSONvso2"
    },
    {
      "cell_type": "code",
      "metadata": {
        "colab": {
          "base_uri": "https://localhost:8080/",
          "height": 289
        },
        "id": "giFPSLAavso2",
        "outputId": "dedb3500-0aad-4589-9e44-ecc5647515f5"
      },
      "source": [
        "model = Sequential()\n",
        "# TODO 1: Increase LSTM units from 5 to 10\n",
        "model.add(LSTM(10, input_shape=(sequence_length, 1)))  # <-- Replace 5 with 10\n",
        "\n",
        "# TODO 2: Optionally add another Dense layer\n",
        "model.add(Dense(6))\n",
        "model.add(Dense(6))\n",
        "model.add(Dense(1))\n",
        "model.add(Dense(1))\n",
        "\n",
        "\n",
        "# TODO 3: Compile with a different optimizer and learning rate\n",
        "model.compile(loss='mse', optimizer=Adam(learning_rate=0.09))  # <-- Replace 'adam' with Adam(...) for new LR\n",
        "\n",
        "model.summary()"
      ],
      "execution_count": null,
      "outputs": [
        {
          "output_type": "display_data",
          "data": {
            "text/plain": [
              "\u001b[1mModel: \"sequential_5\"\u001b[0m\n"
            ],
            "text/html": [
              "<pre style=\"white-space:pre;overflow-x:auto;line-height:normal;font-family:Menlo,'DejaVu Sans Mono',consolas,'Courier New',monospace\"><span style=\"font-weight: bold\">Model: \"sequential_5\"</span>\n",
              "</pre>\n"
            ]
          },
          "metadata": {}
        },
        {
          "output_type": "display_data",
          "data": {
            "text/plain": [
              "┏━━━━━━━━━━━━━━━━━━━━━━━━━━━━━━━━━━━━━━┳━━━━━━━━━━━━━━━━━━━━━━━━━━━━━┳━━━━━━━━━━━━━━━━━┓\n",
              "┃\u001b[1m \u001b[0m\u001b[1mLayer (type)                        \u001b[0m\u001b[1m \u001b[0m┃\u001b[1m \u001b[0m\u001b[1mOutput Shape               \u001b[0m\u001b[1m \u001b[0m┃\u001b[1m \u001b[0m\u001b[1m        Param #\u001b[0m\u001b[1m \u001b[0m┃\n",
              "┡━━━━━━━━━━━━━━━━━━━━━━━━━━━━━━━━━━━━━━╇━━━━━━━━━━━━━━━━━━━━━━━━━━━━━╇━━━━━━━━━━━━━━━━━┩\n",
              "│ lstm_5 (\u001b[38;5;33mLSTM\u001b[0m)                        │ (\u001b[38;5;45mNone\u001b[0m, \u001b[38;5;34m10\u001b[0m)                  │             \u001b[38;5;34m480\u001b[0m │\n",
              "├──────────────────────────────────────┼─────────────────────────────┼─────────────────┤\n",
              "│ dense_20 (\u001b[38;5;33mDense\u001b[0m)                     │ (\u001b[38;5;45mNone\u001b[0m, \u001b[38;5;34m6\u001b[0m)                   │              \u001b[38;5;34m66\u001b[0m │\n",
              "├──────────────────────────────────────┼─────────────────────────────┼─────────────────┤\n",
              "│ dense_21 (\u001b[38;5;33mDense\u001b[0m)                     │ (\u001b[38;5;45mNone\u001b[0m, \u001b[38;5;34m6\u001b[0m)                   │              \u001b[38;5;34m42\u001b[0m │\n",
              "├──────────────────────────────────────┼─────────────────────────────┼─────────────────┤\n",
              "│ dense_22 (\u001b[38;5;33mDense\u001b[0m)                     │ (\u001b[38;5;45mNone\u001b[0m, \u001b[38;5;34m1\u001b[0m)                   │               \u001b[38;5;34m7\u001b[0m │\n",
              "├──────────────────────────────────────┼─────────────────────────────┼─────────────────┤\n",
              "│ dense_23 (\u001b[38;5;33mDense\u001b[0m)                     │ (\u001b[38;5;45mNone\u001b[0m, \u001b[38;5;34m1\u001b[0m)                   │               \u001b[38;5;34m2\u001b[0m │\n",
              "└──────────────────────────────────────┴─────────────────────────────┴─────────────────┘\n"
            ],
            "text/html": [
              "<pre style=\"white-space:pre;overflow-x:auto;line-height:normal;font-family:Menlo,'DejaVu Sans Mono',consolas,'Courier New',monospace\">┏━━━━━━━━━━━━━━━━━━━━━━━━━━━━━━━━━━━━━━┳━━━━━━━━━━━━━━━━━━━━━━━━━━━━━┳━━━━━━━━━━━━━━━━━┓\n",
              "┃<span style=\"font-weight: bold\"> Layer (type)                         </span>┃<span style=\"font-weight: bold\"> Output Shape                </span>┃<span style=\"font-weight: bold\">         Param # </span>┃\n",
              "┡━━━━━━━━━━━━━━━━━━━━━━━━━━━━━━━━━━━━━━╇━━━━━━━━━━━━━━━━━━━━━━━━━━━━━╇━━━━━━━━━━━━━━━━━┩\n",
              "│ lstm_5 (<span style=\"color: #0087ff; text-decoration-color: #0087ff\">LSTM</span>)                        │ (<span style=\"color: #00d7ff; text-decoration-color: #00d7ff\">None</span>, <span style=\"color: #00af00; text-decoration-color: #00af00\">10</span>)                  │             <span style=\"color: #00af00; text-decoration-color: #00af00\">480</span> │\n",
              "├──────────────────────────────────────┼─────────────────────────────┼─────────────────┤\n",
              "│ dense_20 (<span style=\"color: #0087ff; text-decoration-color: #0087ff\">Dense</span>)                     │ (<span style=\"color: #00d7ff; text-decoration-color: #00d7ff\">None</span>, <span style=\"color: #00af00; text-decoration-color: #00af00\">6</span>)                   │              <span style=\"color: #00af00; text-decoration-color: #00af00\">66</span> │\n",
              "├──────────────────────────────────────┼─────────────────────────────┼─────────────────┤\n",
              "│ dense_21 (<span style=\"color: #0087ff; text-decoration-color: #0087ff\">Dense</span>)                     │ (<span style=\"color: #00d7ff; text-decoration-color: #00d7ff\">None</span>, <span style=\"color: #00af00; text-decoration-color: #00af00\">6</span>)                   │              <span style=\"color: #00af00; text-decoration-color: #00af00\">42</span> │\n",
              "├──────────────────────────────────────┼─────────────────────────────┼─────────────────┤\n",
              "│ dense_22 (<span style=\"color: #0087ff; text-decoration-color: #0087ff\">Dense</span>)                     │ (<span style=\"color: #00d7ff; text-decoration-color: #00d7ff\">None</span>, <span style=\"color: #00af00; text-decoration-color: #00af00\">1</span>)                   │               <span style=\"color: #00af00; text-decoration-color: #00af00\">7</span> │\n",
              "├──────────────────────────────────────┼─────────────────────────────┼─────────────────┤\n",
              "│ dense_23 (<span style=\"color: #0087ff; text-decoration-color: #0087ff\">Dense</span>)                     │ (<span style=\"color: #00d7ff; text-decoration-color: #00d7ff\">None</span>, <span style=\"color: #00af00; text-decoration-color: #00af00\">1</span>)                   │               <span style=\"color: #00af00; text-decoration-color: #00af00\">2</span> │\n",
              "└──────────────────────────────────────┴─────────────────────────────┴─────────────────┘\n",
              "</pre>\n"
            ]
          },
          "metadata": {}
        },
        {
          "output_type": "display_data",
          "data": {
            "text/plain": [
              "\u001b[1m Total params: \u001b[0m\u001b[38;5;34m597\u001b[0m (2.33 KB)\n"
            ],
            "text/html": [
              "<pre style=\"white-space:pre;overflow-x:auto;line-height:normal;font-family:Menlo,'DejaVu Sans Mono',consolas,'Courier New',monospace\"><span style=\"font-weight: bold\"> Total params: </span><span style=\"color: #00af00; text-decoration-color: #00af00\">597</span> (2.33 KB)\n",
              "</pre>\n"
            ]
          },
          "metadata": {}
        },
        {
          "output_type": "display_data",
          "data": {
            "text/plain": [
              "\u001b[1m Trainable params: \u001b[0m\u001b[38;5;34m597\u001b[0m (2.33 KB)\n"
            ],
            "text/html": [
              "<pre style=\"white-space:pre;overflow-x:auto;line-height:normal;font-family:Menlo,'DejaVu Sans Mono',consolas,'Courier New',monospace\"><span style=\"font-weight: bold\"> Trainable params: </span><span style=\"color: #00af00; text-decoration-color: #00af00\">597</span> (2.33 KB)\n",
              "</pre>\n"
            ]
          },
          "metadata": {}
        },
        {
          "output_type": "display_data",
          "data": {
            "text/plain": [
              "\u001b[1m Non-trainable params: \u001b[0m\u001b[38;5;34m0\u001b[0m (0.00 B)\n"
            ],
            "text/html": [
              "<pre style=\"white-space:pre;overflow-x:auto;line-height:normal;font-family:Menlo,'DejaVu Sans Mono',consolas,'Courier New',monospace\"><span style=\"font-weight: bold\"> Non-trainable params: </span><span style=\"color: #00af00; text-decoration-color: #00af00\">0</span> (0.00 B)\n",
              "</pre>\n"
            ]
          },
          "metadata": {}
        }
      ],
      "id": "giFPSLAavso2"
    },
    {
      "cell_type": "markdown",
      "metadata": {
        "id": "L8oDuFXdvso2"
      },
      "source": [
        "### Train the Model\n"
      ],
      "id": "L8oDuFXdvso2"
    },
    {
      "cell_type": "code",
      "metadata": {
        "colab": {
          "base_uri": "https://localhost:8080/",
          "height": 467
        },
        "id": "U8_4xM2Jvso3",
        "outputId": "f03152f5-7c9a-45fd-f8be-39293cc2122d"
      },
      "source": [
        "history = model.fit(X, y, epochs=100, verbose=0)\n",
        "print(\"Training complete!\")\n",
        "\n",
        "import matplotlib.pyplot as plt\n",
        "plt.plot(history.history['loss'], label='Training Loss')\n",
        "plt.xlabel('Epoch')\n",
        "plt.ylabel('Loss')\n",
        "plt.legend()\n",
        "plt.show()"
      ],
      "execution_count": null,
      "outputs": [
        {
          "output_type": "stream",
          "name": "stdout",
          "text": [
            "Training complete!\n"
          ]
        },
        {
          "output_type": "display_data",
          "data": {
            "text/plain": [
              "<Figure size 640x480 with 1 Axes>"
            ],
            "image/png": "[encoded data removed]"
          },
          "metadata": {}
        }
      ],
      "id": "U8_4xM2Jvso3"
    },
    {
      "cell_type": "markdown",
      "metadata": {
        "id": "RwynX0Omvso3"
      },
      "source": [
        "### Test the Model\n",
        "Let’s predict what comes after the sequence `[27, 28, 29]` (the last few in our training data) and see if it predicts **30**.\n"
      ],
      "id": "RwynX0Omvso3"
    },
    {
      "cell_type": "code",
      "metadata": {
        "colab": {
          "base_uri": "https://localhost:8080/"
        },
        "id": "fxFLYmVtvso3",
        "outputId": "fdf34d79-70e7-417f-b4ea-67d4419415f2"
      },
      "source": [
        "test_seq = np.array([[27], [28], [29]])\n",
        "test_seq = test_seq.reshape((1, sequence_length, 1))\n",
        "prediction = model.predict(test_seq)\n",
        "print(\"Predicted next number:\", prediction[0][0])"
      ],
      "execution_count": null,
      "outputs": [
        {
          "output_type": "stream",
          "name": "stderr",
          "text": [
            "WARNING:tensorflow:5 out of the last 5 calls to <function TensorFlowTrainer.make_predict_function.<locals>.one_step_on_data_distributed at 0x7c5c8df09620> triggered tf.function retracing. Tracing is expensive and the excessive number of tracings could be due to (1) creating @tf.function repeatedly in a loop, (2) passing tensors with different shapes, (3) passing Python objects instead of tensors. For (1), please define your @tf.function outside of the loop. For (2), @tf.function has reduce_retracing=True option that can avoid unnecessary retracing. For (3), please refer to https://www.tensorflow.org/guide/function#controlling_retracing and https://www.tensorflow.org/api_docs/python/tf/function for  more details.\n"
          ]
        },
        {
          "output_type": "stream",
          "name": "stdout",
          "text": [
            "\u001b[1m1/1\u001b[0m \u001b[32m━━━━━━━━━━━━━━━━━━━━\u001b[0m\u001b[37m\u001b[0m \u001b[1m0s\u001b[0m 205ms/step\n",
            "Predicted next number: 29.636183\n"
          ]
        }
      ],
      "id": "fxFLYmVtvso3"
    },
    {
      "cell_type": "code",
      "source": [
        "#Tried differernt parameters closest i could get is 29.63"
      ],
      "metadata": {
        "id": "qUSu_wylmmML"
      },
      "id": "qUSu_wylmmML",
      "execution_count": null,
      "outputs": []
    },
    {
      "cell_type": "markdown",
      "metadata": {
        "id": "DWCRjiDavso3"
      },
      "source": [
        "## Glossary\n",
        "- **RNN**: Recurrent Neural Network; processes sequences by iterating through timesteps.\n",
        "- **LSTM**: Long Short-Term Memory network; a special RNN with gates to remember or forget.\n",
        "- **Cell State (C)**: The long-term memory that flows through time.\n",
        "- **Hidden State (h)**: The short-term output from the LSTM cell at each time step.\n",
        "- **Forget Gate**: Gate that decides what to remove from the cell state.\n",
        "- **Input Gate**: Gate that decides what to add to the cell state.\n",
        "- **Output Gate**: Gate that decides what to reveal as the hidden state.\n",
        "- **Sigmoid ($\\sigma$)**: A function that outputs between 0 and 1.\n",
        "- **Tanh ($\\tanh$)**: A function that outputs between -1 and 1.\n",
        "- **Weights (W)**, **Biases (b)**: Learnable parameters that the network updates via backpropagation.\n",
        "- **Vanishing Gradient Problem**: When gradients become very small, making it hard to learn long-term dependencies.\n",
        "- **GRU**: Gated Recurrent Unit, a simpler variant of LSTM.\n"
      ],
      "id": "DWCRjiDavso3"
    },
    {
      "cell_type": "markdown",
      "metadata": {
        "id": "0gXr4ojTvso3"
      },
      "source": [
        "## Conclusion\n",
        "You have now:\n",
        "- Learned the **intuition** behind LSTMs.\n",
        "- Seen the **mathematical equations**.\n",
        "- Walked through a **from-scratch** example in NumPy.\n",
        "- Built a **toy LSTM** model in TensorFlow/Keras.\n",
        "- Explored **practical usage**, real-world examples, and Q&A.\n",
        "\n",
        "Feel free to experiment with:\n",
        "- Different numbers of LSTM units.\n",
        "- More layers.\n",
        "- Different optimizers.\n",
        "- New data.\n",
        "\n",
        "Keep asking questions and exploring more advanced topics like **attention mechanisms**, **transformers**, and **sequence-to-sequence models**!"
      ],
      "id": "0gXr4ojTvso3"
    },
    {
      "cell_type": "code",
      "metadata": {
        "colab": {
          "base_uri": "https://localhost:8080/"
        },
        "id": "yllKnmvSvso3",
        "outputId": "7b03df64-d043-4122-d027-2ba4ed1553d6"
      },
      "source": [
        "import os, sys, platform, datetime, uuid, socket\n",
        "\n",
        "def signoff(name=\"Anonymous\"):\n",
        "    colab_check = \"Yes\" if 'google.colab' in sys.modules else \"No\"\n",
        "    mac_addr = ':'.join(format((uuid.getnode() >> i) & 0xff, '02x') for i in reversed(range(0, 48, 8)))\n",
        "    print(\"+++ Acknowledgement +++\")\n",
        "    print(f\"Executed on: {datetime.datetime.now()}\")\n",
        "    print(f\"In Google Colab: {colab_check}\")\n",
        "    print(f\"System info: {platform.system()} {platform.release()}\")\n",
        "    print(f\"Node name: {platform.node()}\")\n",
        "    print(f\"MAC address: {mac_addr}\")\n",
        "    try:\n",
        "        print(f\"IP address: {socket.gethostbyname(socket.gethostname())}\")\n",
        "    except:\n",
        "        print(\"IP address: Unknown\")\n",
        "    print(f\"Signing off, {name}\")\n",
        "\n",
        "signoff(\"Kushal Chandani\")"
      ],
      "execution_count": null,
      "outputs": [
        {
          "output_type": "stream",
          "name": "stdout",
          "text": [
            "+++ Acknowledgement +++\n",
            "Executed on: 2025-02-02 16:59:53.795183\n",
            "In Google Colab: Yes\n",
            "System info: Linux 6.1.85+\n",
            "Node name: d4d087cbffc2\n",
            "MAC address: 02:42:ac:1c:00:0c\n",
            "IP address: 172.28.0.12\n",
            "Signing off, Kushal Chandani\n"
          ]
        }
      ],
      "id": "yllKnmvSvso3"
    },
    {
      "cell_type": "code",
      "source": [],
      "metadata": {
        "id": "3PU5A0QhjrQw"
      },
      "id": "3PU5A0QhjrQw",
      "execution_count": null,
      "outputs": []
    }
  ]
}