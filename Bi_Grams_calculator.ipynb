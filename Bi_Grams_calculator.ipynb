{
  "nbformat": 4,
  "nbformat_minor": 0,
  "metadata": {
    "colab": {
      "provenance": []
    },
    "kernelspec": {
      "name": "python3",
      "display_name": "Python 3"
    },
    "language_info": {
      "name": "python"
    }
  },
  "cells": [
    {
      "cell_type": "code",
      "source": [
        "# Python program to print fancy ASCII art message\n",
        "\n",
        "def print_ascii_art():\n",
        "    ascii_art = r\"\"\"\n",
        "  _   _      _ _\n",
        " | | | | ___| | | ___\n",
        " | |_| |/ _ \\ | |/   \\\n",
        " |  _  |  __/ | |     |\n",
        " |_| |_|\\___|_|_|\\___/\n",
        "\n",
        "       Hello to the Class of CS 435-L1!\n",
        "    \"\"\"\n",
        "    print(ascii_art)\n",
        "\n",
        "# Call the function\n",
        "print_ascii_art()\n"
      ],
      "metadata": {
        "colab": {
          "base_uri": "https://localhost:8080/"
        },
        "id": "Xhi_Pf5IyzDv",
        "outputId": "bfa1eeec-206f-4a56-f566-20a69b0ca087"
      },
      "execution_count": 1,
      "outputs": [
        {
          "output_type": "stream",
          "name": "stdout",
          "text": [
            "\n",
            "  _   _      _ _\n",
            " | | | | ___| | | ___\n",
            " | |_| |/ _ \\ | |/   \\\n",
            " |  _  |  __/ | |     |\n",
            " |_| |_|\\___|_|_|\\___/\n",
            "\n",
            "       Hello to the Class of CS 435-L1!\n",
            "    \n"
          ]
        }
      ]
    },
    {
      "cell_type": "markdown",
      "source": [
        "# Problem Statement: Counting Total Bigrams in a Sentence\n",
        "\n",
        "## Objective:\n",
        "Write a Python program that calculates the **total number of bigrams** (pairs of consecutive words) in a given sentence. A bigram is defined as a sequence of two consecutive words in the text.\n",
        "\n",
        "## Requirements:\n",
        "1. **Input**:\n",
        "   - A string representing the sentence (e.g., `\"they visited New York last week\"`).\n",
        "2. **Output**:\n",
        "   - An integer representing the total number of bigrams in the sentence.\n",
        "3. **Constraints**:\n",
        "   - If the input sentence has fewer than 2 words, the program should return `0` as there are no bigrams.\n",
        "   - The program should handle empty strings and sentences with a single word gracefully.\n",
        "\n",
        "## Example:\n",
        "### Input:\n",
        "```plaintext\n",
        "\"they visited New York last week\"\n",
        "```\n",
        "### Output:\n",
        "```plaintext\n",
        "5\n",
        "```\n",
        "\n",
        "## Calculation:\n",
        "For the sentence `\"they visited New York last week\"`, the bigrams are:\n",
        "1. `(\"they\", \"visited\")`\n",
        "2. `(\"visited\", \"New\")`\n",
        "3. `(\"New\", \"York\")`\n",
        "4. `(\"York\", \"last\")`\n",
        "5. `(\"last\", \"week\")`\n",
        "\n",
        "Thus, the total number of bigrams is **5**.\n",
        "\n",
        "## Extensions:\n",
        "- Handle preprocessing of the sentence (e.g., removing punctuation, lowercasing) if required.\n",
        "- Support sentences in multiple languages.\n"
      ],
      "metadata": {
        "id": "vrbUy4QsyGKb"
      }
    },
    {
      "cell_type": "markdown",
      "source": [
        "## Pseudocode\n",
        "1. Input the Sentence: Accept or define the input sentence as a string.\n",
        "2. Split the Sentence: Split the string into a list of words.\n",
        "3. Check Sentence Length:\n",
        "If the sentence has fewer than 2 words, there are no bigrams (return 0).\n",
        "4. Calculate the Total Bigrams:\n",
        "Use the length of the word list to calculate the number of bigrams as len(words) - 1.\n",
        "5. Output the Result: Return or print the total number of bigrams."
      ],
      "metadata": {
        "id": "PXhB3J9u0MRm"
      }
    },
    {
      "cell_type": "code",
      "source": [
        "# Step 1: Define a function to count the total number of bigrams\n",
        "def count_total_bigrams(sentence):\n",
        "    \"\"\"\n",
        "    This function calculates the total number of bigrams in a given sentence.\n",
        "    \"\"\"\n",
        "    # Step 2: Split the sentence into a list of words\n",
        "    words = sentence.split()  # Creates a list of words\n",
        "\n",
        "    # Step 3: Check if the sentence has fewer than 2 words\n",
        "    if len(words) < 2:\n",
        "        return 0  # No bigrams possible\n",
        "\n",
        "    # Step 4: Calculate the total number of bigrams\n",
        "    # Total bigrams = (Number of words - 1)\n",
        "    # <write code to complete the program>\n",
        "\n",
        "    total_bigrams = len(words) - 1\n",
        "\n",
        "    # Step 5: Return the result\n",
        "    return total_bigrams\n",
        "\n",
        "# Example Usage:\n",
        "sentence = \"they visited New York last week\"\n",
        "print(count_total_bigrams(sentence))\n"
      ],
      "metadata": {
        "colab": {
          "base_uri": "https://localhost:8080/"
        },
        "id": "D-GpczpJzybe",
        "outputId": "100d9b37-44ca-47da-db8c-0ceba43eff4d"
      },
      "execution_count": 4,
      "outputs": [
        {
          "output_type": "stream",
          "name": "stdout",
          "text": [
            "5\n"
          ]
        }
      ]
    },
    {
      "cell_type": "markdown",
      "source": [
        "# Optional Problem Statement: Generate Bigrams\n",
        "\n",
        "## Objective:\n",
        "Write a Python function that takes a sentence as input and returns a list of bigrams (pairs of consecutive words) present in the sentence.\n",
        "\n",
        "## Requirements:\n",
        "1. **Input**:\n",
        "   - A string representing the sentence (e.g., `\"they visited New York last week\"`).\n",
        "2. **Output**:\n",
        "   - A list of tuples, where each tuple is a bigram.\n",
        "3. **Constraints**:\n",
        "   - If the sentence has fewer than 2 words, return an empty list.\n",
        "\n",
        "## Example:\n",
        "### Input:\n",
        "```plaintext\n",
        "\"they visited New York last week\"\n",
        "```\n",
        "### Output:\n",
        "```plaintext\n",
        "[(\"they\", \"visited\"), (\"visited\", \"New\"), (\"New\", \"York\"), (\"York\", \"last\"), (\"last\", \"week\")]"
      ],
      "metadata": {
        "id": "RS_A2OrdyJ7j"
      }
    },
    {
      "cell_type": "code",
      "execution_count": 5,
      "metadata": {
        "colab": {
          "base_uri": "https://localhost:8080/"
        },
        "id": "DOEtiEA03SuV",
        "outputId": "c6be8661-087c-4623-d981-6bd98b9631a7"
      },
      "outputs": [
        {
          "output_type": "stream",
          "name": "stdout",
          "text": [
            "[('they', 'visited'), ('visited', 'New'), ('New', 'York'), ('York', 'last'), ('last', 'week')]\n"
          ]
        }
      ],
      "source": [
        "# Step 1: Define the function to create bigrams\n",
        "def generate_bigrams(phrase):\n",
        "    \"\"\"\n",
        "    This function takes a string (phrase) as input\n",
        "    and returns a list of bigrams.\n",
        "    \"\"\"\n",
        "    # Step 2: Split the phrase into words\n",
        "    words = phrase.split()  # Creates a list of words\n",
        "\n",
        "    # Step 3: Initialize an empty list for bigrams\n",
        "    bigrams = []\n",
        "\n",
        "    # Step 4: Generate bigrams using a loop\n",
        "    for i in range(len(words) - 1):  # Iterate up to the second-last word\n",
        "        bigram = (words[i], words[i + 1])  # Create a pair of consecutive words\n",
        "        bigrams.append(bigram)  # Append the bigram to the list\n",
        "\n",
        "    # Step 5: Return the list of bigrams\n",
        "    return bigrams\n",
        "\n",
        "# Example Usage:\n",
        "phrase = \"they visited New York last week\"\n",
        "print(generate_bigrams(phrase))\n"
      ]
    },
    {
      "cell_type": "markdown",
      "source": [],
      "metadata": {
        "id": "mgs12-gYyBri"
      }
    }
  ]
}